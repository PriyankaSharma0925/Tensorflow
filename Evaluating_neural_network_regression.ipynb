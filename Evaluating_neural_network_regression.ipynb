{
  "nbformat": 4,
  "nbformat_minor": 0,
  "metadata": {
    "colab": {
      "name": "Evaluating_neural network_regression.ipynb",
      "provenance": [],
      "toc_visible": true,
      "mount_file_id": "https://github.com/PriyankaSharma0925/Tensorflow/blob/main/Evaluating_neural_network_regression.ipynb",
      "authorship_tag": "ABX9TyND6w5/uWWx11AJx5x0pYCB",
      "include_colab_link": true
    },
    "kernelspec": {
      "name": "python3",
      "display_name": "Python 3"
    },
    "language_info": {
      "name": "python"
    }
  },
  "cells": [
    {
      "cell_type": "markdown",
      "metadata": {
        "id": "view-in-github",
        "colab_type": "text"
      },
      "source": [
        "<a href=\"https://colab.research.google.com/github/PriyankaSharma0925/Tensorflow/blob/main/Evaluating_neural_network_regression.ipynb\" target=\"_parent\"><img src=\"https://colab.research.google.com/assets/colab-badge.svg\" alt=\"Open In Colab\"/></a>"
      ]
    },
    {
      "cell_type": "code",
      "execution_count": 1,
      "metadata": {
        "id": "tnKg-rYWIFRo"
      },
      "outputs": [],
      "source": [
        "import tensorflow as tf\n",
        "import matplotlib.pyplot as plt"
      ]
    },
    {
      "cell_type": "code",
      "source": [
        "X=tf.range(-100,100,5)\n",
        "X"
      ],
      "metadata": {
        "id": "85sjgz3KIbuZ",
        "outputId": "e89b7858-721d-4733-ba53-14f23a7c9001",
        "colab": {
          "base_uri": "https://localhost:8080/"
        }
      },
      "execution_count": 2,
      "outputs": [
        {
          "output_type": "execute_result",
          "data": {
            "text/plain": [
              "<tf.Tensor: shape=(40,), dtype=int32, numpy=\n",
              "array([-100,  -95,  -90,  -85,  -80,  -75,  -70,  -65,  -60,  -55,  -50,\n",
              "        -45,  -40,  -35,  -30,  -25,  -20,  -15,  -10,   -5,    0,    5,\n",
              "         10,   15,   20,   25,   30,   35,   40,   45,   50,   55,   60,\n",
              "         65,   70,   75,   80,   85,   90,   95], dtype=int32)>"
            ]
          },
          "metadata": {},
          "execution_count": 2
        }
      ]
    },
    {
      "cell_type": "code",
      "source": [
        "len(X)"
      ],
      "metadata": {
        "id": "8d1LbPXAItAU",
        "outputId": "450dbc2f-f05f-46af-e4e8-c8798773097e",
        "colab": {
          "base_uri": "https://localhost:8080/"
        }
      },
      "execution_count": 3,
      "outputs": [
        {
          "output_type": "execute_result",
          "data": {
            "text/plain": [
              "40"
            ]
          },
          "metadata": {},
          "execution_count": 3
        }
      ]
    },
    {
      "cell_type": "code",
      "source": [
        "y=X+10\n",
        "y"
      ],
      "metadata": {
        "id": "VFcTYdV5Iu1R",
        "outputId": "e31e910e-3dd6-440f-8d1d-254735f92510",
        "colab": {
          "base_uri": "https://localhost:8080/"
        }
      },
      "execution_count": 4,
      "outputs": [
        {
          "output_type": "execute_result",
          "data": {
            "text/plain": [
              "<tf.Tensor: shape=(40,), dtype=int32, numpy=\n",
              "array([-90, -85, -80, -75, -70, -65, -60, -55, -50, -45, -40, -35, -30,\n",
              "       -25, -20, -15, -10,  -5,   0,   5,  10,  15,  20,  25,  30,  35,\n",
              "        40,  45,  50,  55,  60,  65,  70,  75,  80,  85,  90,  95, 100,\n",
              "       105], dtype=int32)>"
            ]
          },
          "metadata": {},
          "execution_count": 4
        }
      ]
    },
    {
      "cell_type": "code",
      "source": [
        "plt.scatter(X,y)\n"
      ],
      "metadata": {
        "id": "6Y3un3m2I54V",
        "outputId": "4994c169-fbab-4bb6-9b4b-eea555001ff0",
        "colab": {
          "base_uri": "https://localhost:8080/",
          "height": 282
        }
      },
      "execution_count": 5,
      "outputs": [
        {
          "output_type": "execute_result",
          "data": {
            "text/plain": [
              "<matplotlib.collections.PathCollection at 0x7f127c173ad0>"
            ]
          },
          "metadata": {},
          "execution_count": 5
        },
        {
          "output_type": "display_data",
          "data": {
            "image/png": "[encoded data removed]",
            "text/plain": [
              "<Figure size 432x288 with 1 Axes>"
            ]
          },
          "metadata": {
            "needs_background": "light"
          }
        }
      ]
    },
    {
      "cell_type": "code",
      "source": [
        "X_train=X[:30]\n",
        "\n",
        "X_test=X[30:]\n",
        "\n",
        "len(X_train),len(X_test),X_test\n",
        "\n"
      ],
      "metadata": {
        "id": "FJytzi2MJMN1",
        "outputId": "d28d3797-aae9-4cfe-ff3e-f6a37ee855ad",
        "colab": {
          "base_uri": "https://localhost:8080/"
        }
      },
      "execution_count": 6,
      "outputs": [
        {
          "output_type": "execute_result",
          "data": {
            "text/plain": [
              "(30,\n",
              " 10,\n",
              " <tf.Tensor: shape=(10,), dtype=int32, numpy=array([50, 55, 60, 65, 70, 75, 80, 85, 90, 95], dtype=int32)>)"
            ]
          },
          "metadata": {},
          "execution_count": 6
        }
      ]
    },
    {
      "cell_type": "code",
      "source": [
        "y_train=y[:30]\n",
        "y_test=y[30:]\n",
        "\n",
        "len(y_train),len(y_test),y_test\n"
      ],
      "metadata": {
        "id": "xv9cesiSMeZW",
        "outputId": "6e2a23cc-be1b-4963-8652-294efeb90ca9",
        "colab": {
          "base_uri": "https://localhost:8080/"
        }
      },
      "execution_count": 7,
      "outputs": [
        {
          "output_type": "execute_result",
          "data": {
            "text/plain": [
              "(30,\n",
              " 10,\n",
              " <tf.Tensor: shape=(10,), dtype=int32, numpy=array([ 60,  65,  70,  75,  80,  85,  90,  95, 100, 105], dtype=int32)>)"
            ]
          },
          "metadata": {},
          "execution_count": 7
        }
      ]
    },
    {
      "cell_type": "markdown",
      "source": [
        "Visualizing the data\n"
      ],
      "metadata": {
        "id": "76SomacVKe0t"
      }
    },
    {
      "cell_type": "code",
      "source": [
        "plt.figure(figsize=(10,7))\n",
        "plt.scatter(X_train,y_train,c=\"b\", label=\"Training Data\")\n",
        "plt.scatter(X_test,y_test,c=\"g\",label=\"Testing Data\")\n",
        "plt.legend()\n"
      ],
      "metadata": {
        "id": "6WFNGBdWO8yX",
        "outputId": "9015da71-3a6e-460a-9c6c-56ce4830b7e3",
        "colab": {
          "base_uri": "https://localhost:8080/",
          "height": 445
        }
      },
      "execution_count": 8,
      "outputs": [
        {
          "output_type": "execute_result",
          "data": {
            "text/plain": [
              "<matplotlib.legend.Legend at 0x7f12742b1bd0>"
            ]
          },
          "metadata": {},
          "execution_count": 8
        },
        {
          "output_type": "display_data",
          "data": {
            "image/png": "[encoded data removed]",
            "text/plain": [
              "<Figure size 720x504 with 1 Axes>"
            ]
          },
          "metadata": {
            "needs_background": "light"
          }
        }
      ]
    },
    {
      "cell_type": "code",
      "source": [
        "model=tf.keras.Sequential(\n",
        "    [tf.keras.layers.Dense(15,input_shape=[1],name=\"AAA\"),\n",
        "     tf.keras.layers.Dense(1)]\n",
        ")\n",
        "    \n",
        "model.compile(\n",
        "    loss=tf.keras.losses.mae,\n",
        "    optimizer=tf.keras.optimizers.SGD(),\n",
        "    metrics=[\"mae\"]\n",
        ")\n",
        "\n",
        "#model.fit(tf.expand_dims(X_train,axis=-1),y_train,epochs=100,verbose=0)"
      ],
      "metadata": {
        "id": "jHmezvNNPUz-"
      },
      "execution_count": 9,
      "outputs": []
    },
    {
      "cell_type": "code",
      "source": [
        "model.summary()"
      ],
      "metadata": {
        "id": "zpR6VyKlRIjQ",
        "outputId": "aa243bcb-8089-41d3-f532-efa34cecfe2c",
        "colab": {
          "base_uri": "https://localhost:8080/"
        }
      },
      "execution_count": 10,
      "outputs": [
        {
          "output_type": "stream",
          "name": "stdout",
          "text": [
            "Model: \"sequential\"\n",
            "_________________________________________________________________\n",
            " Layer (type)                Output Shape              Param #   \n",
            "=================================================================\n",
            " AAA (Dense)                 (None, 15)                30        \n",
            "                                                                 \n",
            " dense (Dense)               (None, 1)                 16        \n",
            "                                                                 \n",
            "=================================================================\n",
            "Total params: 46\n",
            "Trainable params: 46\n",
            "Non-trainable params: 0\n",
            "_________________________________________________________________\n"
          ]
        }
      ]
    },
    {
      "cell_type": "code",
      "source": [
        "model.fit(tf.expand_dims(X_train,axis=-1),y_train,epochs=100,verbose=0)"
      ],
      "metadata": {
        "id": "XHCbXEXcSPi-",
        "outputId": "197d80a4-75be-45b4-de53-3a6dedcadc3e",
        "colab": {
          "base_uri": "https://localhost:8080/"
        }
      },
      "execution_count": 11,
      "outputs": [
        {
          "output_type": "execute_result",
          "data": {
            "text/plain": [
              "<keras.callbacks.History at 0x7f1273439650>"
            ]
          },
          "metadata": {},
          "execution_count": 11
        }
      ]
    },
    {
      "cell_type": "code",
      "source": [
        "from tensorflow.keras.utils import plot_model"
      ],
      "metadata": {
        "id": "xOGsWwkzbuE4"
      },
      "execution_count": 12,
      "outputs": []
    },
    {
      "cell_type": "code",
      "source": [
        "plot_model(model=model,show_shapes=True)"
      ],
      "metadata": {
        "id": "wIWvZW7s5nJ2",
        "outputId": "2dd51b79-1c48-459d-f1da-6e28c946e602",
        "colab": {
          "base_uri": "https://localhost:8080/",
          "height": 312
        }
      },
      "execution_count": 13,
      "outputs": [
        {
          "output_type": "execute_result",
          "data": {
            "image/png": "[encoded data removed]",
            "text/plain": [
              "<IPython.core.display.Image object>"
            ]
          },
          "metadata": {},
          "execution_count": 13
        }
      ]
    },
    {
      "cell_type": "code",
      "source": [
        "y_pred=model.predict(X_test)"
      ],
      "metadata": {
        "id": "TdiHP_FtTacM"
      },
      "execution_count": 14,
      "outputs": []
    },
    {
      "cell_type": "code",
      "source": [
        "y_pred"
      ],
      "metadata": {
        "id": "WuUB8gGGXdEd",
        "outputId": "eef93430-368d-4eb3-c8cf-9e5a2c47c8a3",
        "colab": {
          "base_uri": "https://localhost:8080/"
        }
      },
      "execution_count": 15,
      "outputs": [
        {
          "output_type": "execute_result",
          "data": {
            "text/plain": [
              "array([[29.786629],\n",
              "       [32.67751 ],\n",
              "       [35.568382],\n",
              "       [38.459263],\n",
              "       [41.350136],\n",
              "       [44.24101 ],\n",
              "       [47.13189 ],\n",
              "       [50.022766],\n",
              "       [52.913643],\n",
              "       [55.80452 ]], dtype=float32)"
            ]
          },
          "metadata": {},
          "execution_count": 15
        }
      ]
    },
    {
      "cell_type": "code",
      "source": [
        "tf.shape(y_pred)"
      ],
      "metadata": {
        "id": "x_2mwyqZYg3i",
        "outputId": "652a893b-10fb-4bb4-f9e1-bf43dea8bbbb",
        "colab": {
          "base_uri": "https://localhost:8080/"
        }
      },
      "execution_count": 16,
      "outputs": [
        {
          "output_type": "execute_result",
          "data": {
            "text/plain": [
              "<tf.Tensor: shape=(2,), dtype=int32, numpy=array([10,  1], dtype=int32)>"
            ]
          },
          "metadata": {},
          "execution_count": 16
        }
      ]
    },
    {
      "cell_type": "code",
      "source": [
        "y_test"
      ],
      "metadata": {
        "id": "Rbhz6CJ6Xetl",
        "outputId": "d7a32184-6415-47c0-83e8-a4e6cad44562",
        "colab": {
          "base_uri": "https://localhost:8080/"
        }
      },
      "execution_count": 17,
      "outputs": [
        {
          "output_type": "execute_result",
          "data": {
            "text/plain": [
              "<tf.Tensor: shape=(10,), dtype=int32, numpy=array([ 60,  65,  70,  75,  80,  85,  90,  95, 100, 105], dtype=int32)>"
            ]
          },
          "metadata": {},
          "execution_count": 17
        }
      ]
    },
    {
      "cell_type": "code",
      "source": [
        "tf.squeeze(y_pred)\n",
        "tf.shape(y_pred)"
      ],
      "metadata": {
        "id": "GgM3ZFFeXkwF",
        "outputId": "464cf510-9035-483c-d639-dcda14479b11",
        "colab": {
          "base_uri": "https://localhost:8080/"
        }
      },
      "execution_count": 18,
      "outputs": [
        {
          "output_type": "execute_result",
          "data": {
            "text/plain": [
              "<tf.Tensor: shape=(2,), dtype=int32, numpy=array([10,  1], dtype=int32)>"
            ]
          },
          "metadata": {},
          "execution_count": 18
        }
      ]
    },
    {
      "cell_type": "code",
      "source": [
        "y_pred"
      ],
      "metadata": {
        "id": "zoTQ4O99ZcVt",
        "outputId": "5959b030-21bd-4845-ff09-c4304c6787f0",
        "colab": {
          "base_uri": "https://localhost:8080/"
        }
      },
      "execution_count": 19,
      "outputs": [
        {
          "output_type": "execute_result",
          "data": {
            "text/plain": [
              "array([[29.786629],\n",
              "       [32.67751 ],\n",
              "       [35.568382],\n",
              "       [38.459263],\n",
              "       [41.350136],\n",
              "       [44.24101 ],\n",
              "       [47.13189 ],\n",
              "       [50.022766],\n",
              "       [52.913643],\n",
              "       [55.80452 ]], dtype=float32)"
            ]
          },
          "metadata": {},
          "execution_count": 19
        }
      ]
    },
    {
      "cell_type": "code",
      "source": [
        "def plot_prediction_graph(X_train,X_test,y_train,y_test,y_pred):\n",
        "  train_data=X_train\n",
        "  test_data=X_test\n",
        "  train_label=y_train\n",
        "  test_label=y_test\n",
        "  prediction=y_pred\n",
        "  plt.scatter(train_data,train_label,c=\"b\", label=\"Training Data\")\n",
        "  plt.scatter(test_data,test_label,c=\"g\", label=\"Testing Data\")\n",
        "  plt.scatter(test_label,prediction,label=\"Pridiction data\")\n",
        "  plt.legend()\n"
      ],
      "metadata": {
        "id": "f4ERSmBqZiDd"
      },
      "execution_count": 20,
      "outputs": []
    },
    {
      "cell_type": "code",
      "source": [
        "plot_prediction_graph(X_train,X_test,y_train,y_test,y_pred)"
      ],
      "metadata": {
        "id": "rsmiHfg5EOqc",
        "outputId": "cffb26d3-ed28-40a1-abc0-f9d67af6b529",
        "colab": {
          "base_uri": "https://localhost:8080/",
          "height": 265
        }
      },
      "execution_count": 21,
      "outputs": [
        {
          "output_type": "display_data",
          "data": {
            "image/png": "[encoded data removed]",
            "text/plain": [
              "<Figure size 432x288 with 1 Axes>"
            ]
          },
          "metadata": {
            "needs_background": "light"
          }
        }
      ]
    },
    {
      "cell_type": "code",
      "source": [
        "model.evaluate(X_test,y_test)"
      ],
      "metadata": {
        "id": "Le2of3-hESFr",
        "outputId": "cc0b0d74-9498-4bb3-8c90-2203ba6b57c4",
        "colab": {
          "base_uri": "https://localhost:8080/"
        }
      },
      "execution_count": 22,
      "outputs": [
        {
          "output_type": "stream",
          "name": "stdout",
          "text": [
            "1/1 [==============================] - 0s 135ms/step - loss: 39.7044 - mae: 39.7044\n"
          ]
        },
        {
          "output_type": "execute_result",
          "data": {
            "text/plain": [
              "[39.70442581176758, 39.70442581176758]"
            ]
          },
          "metadata": {},
          "execution_count": 22
        }
      ]
    },
    {
      "cell_type": "code",
      "source": [
        "tf.keras.losses.mae(y_test,y_pred)"
      ],
      "metadata": {
        "id": "gJH-e3WjHJhc",
        "outputId": "fd053283-b16b-4f1f-dccd-62ea457d2fbe",
        "colab": {
          "base_uri": "https://localhost:8080/"
        }
      },
      "execution_count": 23,
      "outputs": [
        {
          "output_type": "execute_result",
          "data": {
            "text/plain": [
              "<tf.Tensor: shape=(10,), dtype=float32, numpy=\n",
              "array([52.71337 , 49.82249 , 46.931618, 44.040737, 41.149864, 38.25899 ,\n",
              "       35.36811 , 32.477234, 29.586359, 26.69548 ], dtype=float32)>"
            ]
          },
          "metadata": {},
          "execution_count": 23
        }
      ]
    },
    {
      "cell_type": "code",
      "source": [
        "# Remove the one dimension from the y_pred\n",
        "\n",
        "tf.squeeze(y_pred)"
      ],
      "metadata": {
        "id": "oAUYWR5iHgMy",
        "outputId": "9bd7f3ea-cd51-42c6-fc18-256841284b36",
        "colab": {
          "base_uri": "https://localhost:8080/"
        }
      },
      "execution_count": 24,
      "outputs": [
        {
          "output_type": "execute_result",
          "data": {
            "text/plain": [
              "<tf.Tensor: shape=(10,), dtype=float32, numpy=\n",
              "array([29.786629, 32.67751 , 35.568382, 38.459263, 41.350136, 44.24101 ,\n",
              "       47.13189 , 50.022766, 52.913643, 55.80452 ], dtype=float32)>"
            ]
          },
          "metadata": {},
          "execution_count": 24
        }
      ]
    },
    {
      "cell_type": "code",
      "source": [
        "tf.keras.losses.mae(y_test,tf.squeeze(y_pred))"
      ],
      "metadata": {
        "id": "SeyUJKdyIxCr",
        "outputId": "80b3a800-a623-480e-eac8-ccf7b8c336e8",
        "colab": {
          "base_uri": "https://localhost:8080/"
        }
      },
      "execution_count": 25,
      "outputs": [
        {
          "output_type": "execute_result",
          "data": {
            "text/plain": [
              "<tf.Tensor: shape=(), dtype=float32, numpy=39.704426>"
            ]
          },
          "metadata": {},
          "execution_count": 25
        }
      ]
    },
    {
      "cell_type": "code",
      "source": [
        "tf.shape(y_pred)"
      ],
      "metadata": {
        "id": "G_CCjAoaI0Ae",
        "outputId": "4b1c9cfe-7359-4ec6-9337-3bce333cb160",
        "colab": {
          "base_uri": "https://localhost:8080/"
        }
      },
      "execution_count": 26,
      "outputs": [
        {
          "output_type": "execute_result",
          "data": {
            "text/plain": [
              "<tf.Tensor: shape=(2,), dtype=int32, numpy=array([10,  1], dtype=int32)>"
            ]
          },
          "metadata": {},
          "execution_count": 26
        }
      ]
    },
    {
      "cell_type": "code",
      "source": [
        "tf.keras.losses.mse(y_test,tf.squeeze(y_pred))"
      ],
      "metadata": {
        "id": "o5rBWQJsJHv6",
        "outputId": "7d062975-a168-454f-811f-a80b48fa454d",
        "colab": {
          "base_uri": "https://localhost:8080/"
        }
      },
      "execution_count": 27,
      "outputs": [
        {
          "output_type": "execute_result",
          "data": {
            "text/plain": [
              "<tf.Tensor: shape=(), dtype=float32, numpy=1613.1407>"
            ]
          },
          "metadata": {},
          "execution_count": 27
        }
      ]
    },
    {
      "cell_type": "code",
      "source": [
        "def evaluation(y_test,y_pred,method):\n",
        "  test_label=y_test\n",
        "  prediction=y_pred\n",
        "  if method==\"mae\":\n",
        "    return tf.keras.losses.mae(test_label,tf.squeeze(prediction)).numpy()\n",
        "  elif method==\"mse\":\n",
        "    return tf.keras.losses.mse(test_label,tf.squeeze(prediction)).numpy()\n",
        "  else:\n",
        "    print(\"Only supports MAE and MSE evaluation matrix\")  \n",
        "\n",
        "\n"
      ],
      "metadata": {
        "id": "diFiJir-Tsu8"
      },
      "execution_count": 28,
      "outputs": []
    },
    {
      "cell_type": "code",
      "source": [
        "evaluation(y_test,y_pred,\"mae\")"
      ],
      "metadata": {
        "id": "ZNsFzY98VOis",
        "outputId": "71239422-0f07-4a11-b277-5fbba49ddd0d",
        "colab": {
          "base_uri": "https://localhost:8080/"
        }
      },
      "execution_count": 29,
      "outputs": [
        {
          "output_type": "execute_result",
          "data": {
            "text/plain": [
              "39.704426"
            ]
          },
          "metadata": {},
          "execution_count": 29
        }
      ]
    },
    {
      "cell_type": "code",
      "source": [
        "evaluation(y_test,y_pred,\"mse\")"
      ],
      "metadata": {
        "id": "7IQDEhJnVNNs",
        "outputId": "fa42e41b-14ce-4f99-f6f4-3c24c166ab0c",
        "colab": {
          "base_uri": "https://localhost:8080/"
        }
      },
      "execution_count": 30,
      "outputs": [
        {
          "output_type": "execute_result",
          "data": {
            "text/plain": [
              "1613.1407"
            ]
          },
          "metadata": {},
          "execution_count": 30
        }
      ]
    },
    {
      "cell_type": "code",
      "source": [
        "evaluation(y_test,y_pred,\"mjjjae\")"
      ],
      "metadata": {
        "id": "-d3uJmSmVfrL",
        "outputId": "59e8052b-8068-45e3-818a-61e02f731361",
        "colab": {
          "base_uri": "https://localhost:8080/"
        }
      },
      "execution_count": 31,
      "outputs": [
        {
          "output_type": "stream",
          "name": "stdout",
          "text": [
            "Only supports MAE and MSE evaluation matrix\n"
          ]
        }
      ]
    },
    {
      "cell_type": "code",
      "source": [
        "model1=tf.constant(range(0,100,4))"
      ],
      "metadata": {
        "id": "qouWXiu0VjuT"
      },
      "execution_count": 32,
      "outputs": []
    },
    {
      "cell_type": "code",
      "source": [
        "model1"
      ],
      "metadata": {
        "id": "KdQVVAqNxsbA",
        "outputId": "8b6c96aa-c104-4b4b-a338-52128d3c9883",
        "colab": {
          "base_uri": "https://localhost:8080/"
        }
      },
      "execution_count": 33,
      "outputs": [
        {
          "output_type": "execute_result",
          "data": {
            "text/plain": [
              "<tf.Tensor: shape=(25,), dtype=int32, numpy=\n",
              "array([ 0,  4,  8, 12, 16, 20, 24, 28, 32, 36, 40, 44, 48, 52, 56, 60, 64,\n",
              "       68, 72, 76, 80, 84, 88, 92, 96], dtype=int32)>"
            ]
          },
          "metadata": {},
          "execution_count": 33
        }
      ]
    },
    {
      "cell_type": "markdown",
      "source": [
        "Experimenting with different parameters. \n",
        "First try with model_1 with 1 Dense layer with 1 unit and 100 epochs."
      ],
      "metadata": {
        "id": "6O-Mmb6s1bdj"
      }
    },
    {
      "cell_type": "code",
      "source": [
        "tf.random.set_seed(42)\n",
        "model_1=tf.keras.Sequential(\n",
        "    [tf.keras.layers.Dense(1)]\n",
        ")\n",
        "model_1.compile(\n",
        "    loss=tf.keras.losses.mae,\n",
        "    optimizer=tf.keras.optimizers.SGD(),\n",
        "    metrics=[\"mae\"]\n",
        "\n",
        ")\n",
        "\n",
        "model_1.fit(tf.expand_dims(X_train,axis=-1),y_train,epochs=100)"
      ],
      "metadata": {
        "id": "z1TZCB4Bxtcm",
        "outputId": "6baf445f-0a0e-4864-db02-e8e721fd3160",
        "colab": {
          "base_uri": "https://localhost:8080/"
        }
      },
      "execution_count": 34,
      "outputs": [
        {
          "output_type": "stream",
          "name": "stdout",
          "text": [
            "Epoch 1/100\n",
            "1/1 [==============================] - 0s 293ms/step - loss: 16.1727 - mae: 16.1727\n",
            "Epoch 2/100\n",
            "1/1 [==============================] - 0s 8ms/step - loss: 8.9481 - mae: 8.9481\n",
            "Epoch 3/100\n",
            "1/1 [==============================] - 0s 6ms/step - loss: 11.7873 - mae: 11.7873\n",
            "Epoch 4/100\n",
            "1/1 [==============================] - 0s 8ms/step - loss: 11.1375 - mae: 11.1375\n",
            "Epoch 5/100\n",
            "1/1 [==============================] - 0s 8ms/step - loss: 9.1108 - mae: 9.1108\n",
            "Epoch 6/100\n",
            "1/1 [==============================] - 0s 5ms/step - loss: 11.9505 - mae: 11.9505\n",
            "Epoch 7/100\n",
            "1/1 [==============================] - 0s 6ms/step - loss: 8.2481 - mae: 8.2481\n",
            "Epoch 8/100\n",
            "1/1 [==============================] - 0s 5ms/step - loss: 11.9378 - mae: 11.9378\n",
            "Epoch 9/100\n",
            "1/1 [==============================] - 0s 7ms/step - loss: 8.2448 - mae: 8.2448\n",
            "Epoch 10/100\n",
            "1/1 [==============================] - 0s 6ms/step - loss: 11.9252 - mae: 11.9252\n",
            "Epoch 11/100\n",
            "1/1 [==============================] - 0s 6ms/step - loss: 8.2414 - mae: 8.2414\n",
            "Epoch 12/100\n",
            "1/1 [==============================] - 0s 6ms/step - loss: 11.9125 - mae: 11.9125\n",
            "Epoch 13/100\n",
            "1/1 [==============================] - 0s 5ms/step - loss: 8.2380 - mae: 8.2380\n",
            "Epoch 14/100\n",
            "1/1 [==============================] - 0s 10ms/step - loss: 11.8998 - mae: 11.8998\n",
            "Epoch 15/100\n",
            "1/1 [==============================] - 0s 6ms/step - loss: 8.2346 - mae: 8.2346\n",
            "Epoch 16/100\n",
            "1/1 [==============================] - 0s 6ms/step - loss: 11.8872 - mae: 11.8872\n",
            "Epoch 17/100\n",
            "1/1 [==============================] - 0s 10ms/step - loss: 8.2313 - mae: 8.2313\n",
            "Epoch 18/100\n",
            "1/1 [==============================] - 0s 7ms/step - loss: 11.8745 - mae: 11.8745\n",
            "Epoch 19/100\n",
            "1/1 [==============================] - 0s 5ms/step - loss: 8.2279 - mae: 8.2279\n",
            "Epoch 20/100\n",
            "1/1 [==============================] - 0s 5ms/step - loss: 11.8618 - mae: 11.8618\n",
            "Epoch 21/100\n",
            "1/1 [==============================] - 0s 8ms/step - loss: 8.2245 - mae: 8.2245\n",
            "Epoch 22/100\n",
            "1/1 [==============================] - 0s 6ms/step - loss: 11.8492 - mae: 11.8492\n",
            "Epoch 23/100\n",
            "1/1 [==============================] - 0s 11ms/step - loss: 8.2211 - mae: 8.2211\n",
            "Epoch 24/100\n",
            "1/1 [==============================] - 0s 6ms/step - loss: 11.8365 - mae: 11.8365\n",
            "Epoch 25/100\n",
            "1/1 [==============================] - 0s 6ms/step - loss: 8.2177 - mae: 8.2177\n",
            "Epoch 26/100\n",
            "1/1 [==============================] - 0s 9ms/step - loss: 11.8238 - mae: 11.8238\n",
            "Epoch 27/100\n",
            "1/1 [==============================] - 0s 6ms/step - loss: 8.2144 - mae: 8.2144\n",
            "Epoch 28/100\n",
            "1/1 [==============================] - 0s 5ms/step - loss: 11.8112 - mae: 11.8112\n",
            "Epoch 29/100\n",
            "1/1 [==============================] - 0s 11ms/step - loss: 8.2110 - mae: 8.2110\n",
            "Epoch 30/100\n",
            "1/1 [==============================] - 0s 5ms/step - loss: 11.7985 - mae: 11.7985\n",
            "Epoch 31/100\n",
            "1/1 [==============================] - 0s 15ms/step - loss: 8.2076 - mae: 8.2076\n",
            "Epoch 32/100\n",
            "1/1 [==============================] - 0s 8ms/step - loss: 11.7858 - mae: 11.7858\n",
            "Epoch 33/100\n",
            "1/1 [==============================] - 0s 6ms/step - loss: 8.2042 - mae: 8.2042\n",
            "Epoch 34/100\n",
            "1/1 [==============================] - 0s 12ms/step - loss: 11.7732 - mae: 11.7732\n",
            "Epoch 35/100\n",
            "1/1 [==============================] - 0s 7ms/step - loss: 8.2009 - mae: 8.2009\n",
            "Epoch 36/100\n",
            "1/1 [==============================] - 0s 7ms/step - loss: 11.7605 - mae: 11.7605\n",
            "Epoch 37/100\n",
            "1/1 [==============================] - 0s 7ms/step - loss: 8.1975 - mae: 8.1975\n",
            "Epoch 38/100\n",
            "1/1 [==============================] - 0s 8ms/step - loss: 11.7478 - mae: 11.7478\n",
            "Epoch 39/100\n",
            "1/1 [==============================] - 0s 7ms/step - loss: 8.1941 - mae: 8.1941\n",
            "Epoch 40/100\n",
            "1/1 [==============================] - 0s 7ms/step - loss: 11.7352 - mae: 11.7352\n",
            "Epoch 41/100\n",
            "1/1 [==============================] - 0s 10ms/step - loss: 8.1907 - mae: 8.1907\n",
            "Epoch 42/100\n",
            "1/1 [==============================] - 0s 7ms/step - loss: 11.7225 - mae: 11.7225\n",
            "Epoch 43/100\n",
            "1/1 [==============================] - 0s 8ms/step - loss: 8.1873 - mae: 8.1873\n",
            "Epoch 44/100\n",
            "1/1 [==============================] - 0s 10ms/step - loss: 11.7098 - mae: 11.7098\n",
            "Epoch 45/100\n",
            "1/1 [==============================] - 0s 12ms/step - loss: 8.1840 - mae: 8.1840\n",
            "Epoch 46/100\n",
            "1/1 [==============================] - 0s 8ms/step - loss: 11.6972 - mae: 11.6972\n",
            "Epoch 47/100\n",
            "1/1 [==============================] - 0s 7ms/step - loss: 8.1806 - mae: 8.1806\n",
            "Epoch 48/100\n",
            "1/1 [==============================] - 0s 7ms/step - loss: 11.6845 - mae: 11.6845\n",
            "Epoch 49/100\n",
            "1/1 [==============================] - 0s 8ms/step - loss: 8.1772 - mae: 8.1772\n",
            "Epoch 50/100\n",
            "1/1 [==============================] - 0s 7ms/step - loss: 11.6718 - mae: 11.6718\n",
            "Epoch 51/100\n",
            "1/1 [==============================] - 0s 9ms/step - loss: 8.1738 - mae: 8.1738\n",
            "Epoch 52/100\n",
            "1/1 [==============================] - 0s 6ms/step - loss: 11.6592 - mae: 11.6592\n",
            "Epoch 53/100\n",
            "1/1 [==============================] - 0s 6ms/step - loss: 8.1705 - mae: 8.1705\n",
            "Epoch 54/100\n",
            "1/1 [==============================] - 0s 8ms/step - loss: 11.6465 - mae: 11.6465\n",
            "Epoch 55/100\n",
            "1/1 [==============================] - 0s 7ms/step - loss: 8.1671 - mae: 8.1671\n",
            "Epoch 56/100\n",
            "1/1 [==============================] - 0s 6ms/step - loss: 11.6338 - mae: 11.6338\n",
            "Epoch 57/100\n",
            "1/1 [==============================] - 0s 9ms/step - loss: 8.1637 - mae: 8.1637\n",
            "Epoch 58/100\n",
            "1/1 [==============================] - 0s 7ms/step - loss: 11.6212 - mae: 11.6212\n",
            "Epoch 59/100\n",
            "1/1 [==============================] - 0s 6ms/step - loss: 8.1603 - mae: 8.1603\n",
            "Epoch 60/100\n",
            "1/1 [==============================] - 0s 11ms/step - loss: 11.6085 - mae: 11.6085\n",
            "Epoch 61/100\n",
            "1/1 [==============================] - 0s 9ms/step - loss: 8.1569 - mae: 8.1569\n",
            "Epoch 62/100\n",
            "1/1 [==============================] - 0s 6ms/step - loss: 11.5958 - mae: 11.5958\n",
            "Epoch 63/100\n",
            "1/1 [==============================] - 0s 5ms/step - loss: 8.1536 - mae: 8.1536\n",
            "Epoch 64/100\n",
            "1/1 [==============================] - 0s 6ms/step - loss: 11.5832 - mae: 11.5832\n",
            "Epoch 65/100\n",
            "1/1 [==============================] - 0s 8ms/step - loss: 8.1502 - mae: 8.1502\n",
            "Epoch 66/100\n",
            "1/1 [==============================] - 0s 8ms/step - loss: 11.5705 - mae: 11.5705\n",
            "Epoch 67/100\n",
            "1/1 [==============================] - 0s 27ms/step - loss: 8.1468 - mae: 8.1468\n",
            "Epoch 68/100\n",
            "1/1 [==============================] - 0s 5ms/step - loss: 11.5578 - mae: 11.5578\n",
            "Epoch 69/100\n",
            "1/1 [==============================] - 0s 5ms/step - loss: 8.1434 - mae: 8.1434\n",
            "Epoch 70/100\n",
            "1/1 [==============================] - 0s 5ms/step - loss: 11.5452 - mae: 11.5452\n",
            "Epoch 71/100\n",
            "1/1 [==============================] - 0s 6ms/step - loss: 8.1401 - mae: 8.1401\n",
            "Epoch 72/100\n",
            "1/1 [==============================] - 0s 8ms/step - loss: 11.5325 - mae: 11.5325\n",
            "Epoch 73/100\n",
            "1/1 [==============================] - 0s 5ms/step - loss: 8.1367 - mae: 8.1367\n",
            "Epoch 74/100\n",
            "1/1 [==============================] - 0s 5ms/step - loss: 11.5198 - mae: 11.5198\n",
            "Epoch 75/100\n",
            "1/1 [==============================] - 0s 5ms/step - loss: 8.1333 - mae: 8.1333\n",
            "Epoch 76/100\n",
            "1/1 [==============================] - 0s 5ms/step - loss: 11.5072 - mae: 11.5072\n",
            "Epoch 77/100\n",
            "1/1 [==============================] - 0s 8ms/step - loss: 8.1299 - mae: 8.1299\n",
            "Epoch 78/100\n",
            "1/1 [==============================] - 0s 5ms/step - loss: 11.4945 - mae: 11.4945\n",
            "Epoch 79/100\n",
            "1/1 [==============================] - 0s 10ms/step - loss: 8.1266 - mae: 8.1266\n",
            "Epoch 80/100\n",
            "1/1 [==============================] - 0s 6ms/step - loss: 11.4818 - mae: 11.4818\n",
            "Epoch 81/100\n",
            "1/1 [==============================] - 0s 5ms/step - loss: 8.1232 - mae: 8.1232\n",
            "Epoch 82/100\n",
            "1/1 [==============================] - 0s 6ms/step - loss: 11.4691 - mae: 11.4691\n",
            "Epoch 83/100\n",
            "1/1 [==============================] - 0s 6ms/step - loss: 8.1198 - mae: 8.1198\n",
            "Epoch 84/100\n",
            "1/1 [==============================] - 0s 6ms/step - loss: 11.4565 - mae: 11.4565\n",
            "Epoch 85/100\n",
            "1/1 [==============================] - 0s 8ms/step - loss: 8.1164 - mae: 8.1164\n",
            "Epoch 86/100\n",
            "1/1 [==============================] - 0s 8ms/step - loss: 11.4438 - mae: 11.4438\n",
            "Epoch 87/100\n",
            "1/1 [==============================] - 0s 6ms/step - loss: 8.1130 - mae: 8.1130\n",
            "Epoch 88/100\n",
            "1/1 [==============================] - 0s 6ms/step - loss: 11.4312 - mae: 11.4312\n",
            "Epoch 89/100\n",
            "1/1 [==============================] - 0s 8ms/step - loss: 8.1097 - mae: 8.1097\n",
            "Epoch 90/100\n",
            "1/1 [==============================] - 0s 6ms/step - loss: 11.4185 - mae: 11.4185\n",
            "Epoch 91/100\n",
            "1/1 [==============================] - 0s 8ms/step - loss: 8.1063 - mae: 8.1063\n",
            "Epoch 92/100\n",
            "1/1 [==============================] - 0s 6ms/step - loss: 11.4058 - mae: 11.4058\n",
            "Epoch 93/100\n",
            "1/1 [==============================] - 0s 6ms/step - loss: 8.1029 - mae: 8.1029\n",
            "Epoch 94/100\n",
            "1/1 [==============================] - 0s 8ms/step - loss: 11.3932 - mae: 11.3932\n",
            "Epoch 95/100\n",
            "1/1 [==============================] - 0s 6ms/step - loss: 8.0995 - mae: 8.0995\n",
            "Epoch 96/100\n",
            "1/1 [==============================] - 0s 6ms/step - loss: 11.3805 - mae: 11.3805\n",
            "Epoch 97/100\n",
            "1/1 [==============================] - 0s 5ms/step - loss: 8.0962 - mae: 8.0962\n",
            "Epoch 98/100\n",
            "1/1 [==============================] - 0s 6ms/step - loss: 11.3678 - mae: 11.3678\n",
            "Epoch 99/100\n",
            "1/1 [==============================] - 0s 7ms/step - loss: 8.0928 - mae: 8.0928\n",
            "Epoch 100/100\n",
            "1/1 [==============================] - 0s 9ms/step - loss: 11.3552 - mae: 11.3552\n"
          ]
        },
        {
          "output_type": "execute_result",
          "data": {
            "text/plain": [
              "<keras.callbacks.History at 0x7f12fa10edd0>"
            ]
          },
          "metadata": {},
          "execution_count": 34
        }
      ]
    },
    {
      "cell_type": "code",
      "source": [
        "y_predict_1=model_1.predict(X_test)"
      ],
      "metadata": {
        "id": "w5YFEOF2ywKf"
      },
      "execution_count": 35,
      "outputs": []
    },
    {
      "cell_type": "code",
      "source": [
        "plot_prediction_graph(X_train,X_test,y_train,y_test,y_predict_1)"
      ],
      "metadata": {
        "id": "ifuFBJFt0I6_",
        "outputId": "5ed3b8cd-c1c5-408b-ea64-7336f0aebb90",
        "colab": {
          "base_uri": "https://localhost:8080/",
          "height": 265
        }
      },
      "execution_count": 36,
      "outputs": [
        {
          "output_type": "display_data",
          "data": {
            "image/png": "[encoded data removed]",
            "text/plain": [
              "<Figure size 432x288 with 1 Axes>"
            ]
          },
          "metadata": {
            "needs_background": "light"
          }
        }
      ]
    },
    {
      "cell_type": "code",
      "source": [
        "mae_1=evaluation(y_test,y_predict_1,\"mae\")"
      ],
      "metadata": {
        "id": "k8ergl_k0xNP"
      },
      "execution_count": 37,
      "outputs": []
    },
    {
      "cell_type": "code",
      "source": [
        "mse_1=evaluation(y_test,y_predict_1,\"mse\")"
      ],
      "metadata": {
        "id": "mWu9nBW71HWh"
      },
      "execution_count": 38,
      "outputs": []
    },
    {
      "cell_type": "markdown",
      "source": [
        "Second try with model_2 with 2 Dense layers with 10 units and 200 epochs."
      ],
      "metadata": {
        "id": "8eHdYqZN1xh_"
      }
    },
    {
      "cell_type": "code",
      "source": [
        "tf.random.set_seed(42)\n",
        "model_2=tf.keras.Sequential(\n",
        "    [tf.keras.layers.Dense(10,input_shape=[1],name=\"First_Dense_Layer\"),\n",
        "     tf.keras.layers.Dense(1,name=\"Second_Dense_Layer\")],name=\"Model_2\"\n",
        ")\n",
        "model_2.compile(\n",
        "    loss=tf.keras.losses.mae,\n",
        "    optimizer=tf.keras.optimizers.SGD(),\n",
        "    metrics=[\"mae\"]\n",
        "\n",
        ") \n",
        "model_2.fit(tf.expand_dims(X_train,axis=-1),y_train,epochs=200)"
      ],
      "metadata": {
        "id": "Aau_b0Pw1Txw",
        "outputId": "20ee9108-52bb-4536-dd5b-3c9aba4c7998",
        "colab": {
          "base_uri": "https://localhost:8080/"
        }
      },
      "execution_count": 39,
      "outputs": [
        {
          "output_type": "stream",
          "name": "stdout",
          "text": [
            "Epoch 1/200\n",
            "1/1 [==============================] - 0s 331ms/step - loss: 24.1219 - mae: 24.1219\n",
            "Epoch 2/200\n",
            "1/1 [==============================] - 0s 7ms/step - loss: 34.2155 - mae: 34.2155\n",
            "Epoch 3/200\n",
            "1/1 [==============================] - 0s 8ms/step - loss: 29.9081 - mae: 29.9081\n",
            "Epoch 4/200\n",
            "1/1 [==============================] - 0s 8ms/step - loss: 14.4486 - mae: 14.4486\n",
            "Epoch 5/200\n",
            "1/1 [==============================] - 0s 7ms/step - loss: 20.8533 - mae: 20.8533\n",
            "Epoch 6/200\n",
            "1/1 [==============================] - 0s 9ms/step - loss: 17.6748 - mae: 17.6748\n",
            "Epoch 7/200\n",
            "1/1 [==============================] - 0s 6ms/step - loss: 20.6085 - mae: 20.6085\n",
            "Epoch 8/200\n",
            "1/1 [==============================] - 0s 8ms/step - loss: 13.8896 - mae: 13.8896\n",
            "Epoch 9/200\n",
            "1/1 [==============================] - 0s 7ms/step - loss: 17.2076 - mae: 17.2076\n",
            "Epoch 10/200\n",
            "1/1 [==============================] - 0s 9ms/step - loss: 15.0397 - mae: 15.0397\n",
            "Epoch 11/200\n",
            "1/1 [==============================] - 0s 27ms/step - loss: 15.4349 - mae: 15.4349\n",
            "Epoch 12/200\n",
            "1/1 [==============================] - 0s 7ms/step - loss: 15.9787 - mae: 15.9787\n",
            "Epoch 13/200\n",
            "1/1 [==============================] - 0s 7ms/step - loss: 16.3033 - mae: 16.3033\n",
            "Epoch 14/200\n",
            "1/1 [==============================] - 0s 8ms/step - loss: 13.9692 - mae: 13.9692\n",
            "Epoch 15/200\n",
            "1/1 [==============================] - 0s 9ms/step - loss: 15.3652 - mae: 15.3652\n",
            "Epoch 16/200\n",
            "1/1 [==============================] - 0s 9ms/step - loss: 14.6743 - mae: 14.6743\n",
            "Epoch 17/200\n",
            "1/1 [==============================] - 0s 8ms/step - loss: 14.6238 - mae: 14.6238\n",
            "Epoch 18/200\n",
            "1/1 [==============================] - 0s 8ms/step - loss: 14.5487 - mae: 14.5487\n",
            "Epoch 19/200\n",
            "1/1 [==============================] - 0s 9ms/step - loss: 14.5877 - mae: 14.5877\n",
            "Epoch 20/200\n",
            "1/1 [==============================] - 0s 10ms/step - loss: 14.4025 - mae: 14.4025\n",
            "Epoch 21/200\n",
            "1/1 [==============================] - 0s 9ms/step - loss: 14.6056 - mae: 14.6056\n",
            "Epoch 22/200\n",
            "1/1 [==============================] - 0s 10ms/step - loss: 14.2452 - mae: 14.2452\n",
            "Epoch 23/200\n",
            "1/1 [==============================] - 0s 8ms/step - loss: 14.6564 - mae: 14.6564\n",
            "Epoch 24/200\n",
            "1/1 [==============================] - 0s 12ms/step - loss: 14.0828 - mae: 14.0828\n",
            "Epoch 25/200\n",
            "1/1 [==============================] - 0s 10ms/step - loss: 14.7280 - mae: 14.7280\n",
            "Epoch 26/200\n",
            "1/1 [==============================] - 0s 9ms/step - loss: 14.6900 - mae: 14.6900\n",
            "Epoch 27/200\n",
            "1/1 [==============================] - 0s 9ms/step - loss: 14.2536 - mae: 14.2536\n",
            "Epoch 28/200\n",
            "1/1 [==============================] - 0s 6ms/step - loss: 14.5221 - mae: 14.5221\n",
            "Epoch 29/200\n",
            "1/1 [==============================] - 0s 8ms/step - loss: 14.3448 - mae: 14.3448\n",
            "Epoch 30/200\n",
            "1/1 [==============================] - 0s 8ms/step - loss: 14.3571 - mae: 14.3571\n",
            "Epoch 31/200\n",
            "1/1 [==============================] - 0s 8ms/step - loss: 14.4380 - mae: 14.4380\n",
            "Epoch 32/200\n",
            "1/1 [==============================] - 0s 8ms/step - loss: 14.1957 - mae: 14.1957\n",
            "Epoch 33/200\n",
            "1/1 [==============================] - 0s 6ms/step - loss: 14.5310 - mae: 14.5310\n",
            "Epoch 34/200\n",
            "1/1 [==============================] - 0s 6ms/step - loss: 14.0385 - mae: 14.0385\n",
            "Epoch 35/200\n",
            "1/1 [==============================] - 0s 9ms/step - loss: 14.6252 - mae: 14.6252\n",
            "Epoch 36/200\n",
            "1/1 [==============================] - 0s 6ms/step - loss: 14.6554 - mae: 14.6554\n",
            "Epoch 37/200\n",
            "1/1 [==============================] - 0s 6ms/step - loss: 14.1591 - mae: 14.1591\n",
            "Epoch 38/200\n",
            "1/1 [==============================] - 0s 6ms/step - loss: 14.5029 - mae: 14.5029\n",
            "Epoch 39/200\n",
            "1/1 [==============================] - 0s 7ms/step - loss: 14.2489 - mae: 14.2489\n",
            "Epoch 40/200\n",
            "1/1 [==============================] - 0s 6ms/step - loss: 14.3553 - mae: 14.3553\n",
            "Epoch 41/200\n",
            "1/1 [==============================] - 0s 7ms/step - loss: 14.3356 - mae: 14.3356\n",
            "Epoch 42/200\n",
            "1/1 [==============================] - 0s 7ms/step - loss: 14.2127 - mae: 14.2127\n",
            "Epoch 43/200\n",
            "1/1 [==============================] - 0s 12ms/step - loss: 14.4190 - mae: 14.4190\n",
            "Epoch 44/200\n",
            "1/1 [==============================] - 0s 9ms/step - loss: 14.0751 - mae: 14.0751\n",
            "Epoch 45/200\n",
            "1/1 [==============================] - 0s 6ms/step - loss: 14.5023 - mae: 14.5023\n",
            "Epoch 46/200\n",
            "1/1 [==============================] - 0s 6ms/step - loss: 14.7141 - mae: 14.7141\n",
            "Epoch 47/200\n",
            "1/1 [==============================] - 0s 10ms/step - loss: 14.0207 - mae: 14.0207\n",
            "Epoch 48/200\n",
            "1/1 [==============================] - 0s 7ms/step - loss: 14.5821 - mae: 14.5821\n",
            "Epoch 49/200\n",
            "1/1 [==============================] - 0s 7ms/step - loss: 14.0967 - mae: 14.0967\n",
            "Epoch 50/200\n",
            "1/1 [==============================] - 0s 9ms/step - loss: 14.4552 - mae: 14.4552\n",
            "Epoch 51/200\n",
            "1/1 [==============================] - 0s 6ms/step - loss: 14.1691 - mae: 14.1691\n",
            "Epoch 52/200\n",
            "1/1 [==============================] - 0s 7ms/step - loss: 14.3333 - mae: 14.3333\n",
            "Epoch 53/200\n",
            "1/1 [==============================] - 0s 7ms/step - loss: 14.2381 - mae: 14.2381\n",
            "Epoch 54/200\n",
            "1/1 [==============================] - 0s 6ms/step - loss: 14.2163 - mae: 14.2163\n",
            "Epoch 55/200\n",
            "1/1 [==============================] - 0s 9ms/step - loss: 14.3043 - mae: 14.3043\n",
            "Epoch 56/200\n",
            "1/1 [==============================] - 0s 7ms/step - loss: 14.8806 - mae: 14.8806\n",
            "Epoch 57/200\n",
            "1/1 [==============================] - 0s 8ms/step - loss: 13.8063 - mae: 13.8063\n",
            "Epoch 58/200\n",
            "1/1 [==============================] - 0s 6ms/step - loss: 14.7694 - mae: 14.7694\n",
            "Epoch 59/200\n",
            "1/1 [==============================] - 0s 6ms/step - loss: 13.8674 - mae: 13.8674\n",
            "Epoch 60/200\n",
            "1/1 [==============================] - 0s 9ms/step - loss: 14.6632 - mae: 14.6632\n",
            "Epoch 61/200\n",
            "1/1 [==============================] - 0s 6ms/step - loss: 13.9250 - mae: 13.9250\n",
            "Epoch 62/200\n",
            "1/1 [==============================] - 0s 9ms/step - loss: 14.5618 - mae: 14.5618\n",
            "Epoch 63/200\n",
            "1/1 [==============================] - 0s 8ms/step - loss: 13.9791 - mae: 13.9791\n",
            "Epoch 64/200\n",
            "1/1 [==============================] - 0s 8ms/step - loss: 14.4653 - mae: 14.4653\n",
            "Epoch 65/200\n",
            "1/1 [==============================] - 0s 7ms/step - loss: 14.0298 - mae: 14.0298\n",
            "Epoch 66/200\n",
            "1/1 [==============================] - 0s 10ms/step - loss: 14.3737 - mae: 14.3737\n",
            "Epoch 67/200\n",
            "1/1 [==============================] - 0s 6ms/step - loss: 14.0769 - mae: 14.0769\n",
            "Epoch 68/200\n",
            "1/1 [==============================] - 0s 7ms/step - loss: 14.2868 - mae: 14.2868\n",
            "Epoch 69/200\n",
            "1/1 [==============================] - 0s 7ms/step - loss: 14.1221 - mae: 14.1221\n",
            "Epoch 70/200\n",
            "1/1 [==============================] - 0s 6ms/step - loss: 14.9877 - mae: 14.9877\n",
            "Epoch 71/200\n",
            "1/1 [==============================] - 0s 7ms/step - loss: 15.6031 - mae: 15.6031\n",
            "Epoch 72/200\n",
            "1/1 [==============================] - 0s 6ms/step - loss: 12.9647 - mae: 12.9647\n",
            "Epoch 73/200\n",
            "1/1 [==============================] - 0s 19ms/step - loss: 15.0859 - mae: 15.0859\n",
            "Epoch 74/200\n",
            "1/1 [==============================] - 0s 9ms/step - loss: 13.6448 - mae: 13.6448\n",
            "Epoch 75/200\n",
            "1/1 [==============================] - 0s 10ms/step - loss: 14.5552 - mae: 14.5552\n",
            "Epoch 76/200\n",
            "1/1 [==============================] - 0s 14ms/step - loss: 14.3429 - mae: 14.3429\n",
            "Epoch 77/200\n",
            "1/1 [==============================] - 0s 7ms/step - loss: 14.0108 - mae: 14.0108\n",
            "Epoch 78/200\n",
            "1/1 [==============================] - 0s 6ms/step - loss: 15.0848 - mae: 15.0848\n",
            "Epoch 79/200\n",
            "1/1 [==============================] - 0s 7ms/step - loss: 15.4882 - mae: 15.4882\n",
            "Epoch 80/200\n",
            "1/1 [==============================] - 0s 6ms/step - loss: 13.0452 - mae: 13.0452\n",
            "Epoch 81/200\n",
            "1/1 [==============================] - 0s 8ms/step - loss: 14.9569 - mae: 14.9569\n",
            "Epoch 82/200\n",
            "1/1 [==============================] - 0s 7ms/step - loss: 13.7439 - mae: 13.7439\n",
            "Epoch 83/200\n",
            "1/1 [==============================] - 0s 7ms/step - loss: 14.4117 - mae: 14.4117\n",
            "Epoch 84/200\n",
            "1/1 [==============================] - 0s 6ms/step - loss: 14.4611 - mae: 14.4611\n",
            "Epoch 85/200\n",
            "1/1 [==============================] - 0s 6ms/step - loss: 13.8534 - mae: 13.8534\n",
            "Epoch 86/200\n",
            "1/1 [==============================] - 0s 7ms/step - loss: 14.4107 - mae: 14.4107\n",
            "Epoch 87/200\n",
            "1/1 [==============================] - 0s 7ms/step - loss: 13.8717 - mae: 13.8717\n",
            "Epoch 88/200\n",
            "1/1 [==============================] - 0s 8ms/step - loss: 15.2046 - mae: 15.2046\n",
            "Epoch 89/200\n",
            "1/1 [==============================] - 0s 7ms/step - loss: 15.3443 - mae: 15.3443\n",
            "Epoch 90/200\n",
            "1/1 [==============================] - 0s 8ms/step - loss: 13.1445 - mae: 13.1445\n",
            "Epoch 91/200\n",
            "1/1 [==============================] - 0s 21ms/step - loss: 14.7950 - mae: 14.7950\n",
            "Epoch 92/200\n",
            "1/1 [==============================] - 0s 10ms/step - loss: 13.8670 - mae: 13.8670\n",
            "Epoch 93/200\n",
            "1/1 [==============================] - 0s 7ms/step - loss: 14.2312 - mae: 14.2312\n",
            "Epoch 94/200\n",
            "1/1 [==============================] - 0s 10ms/step - loss: 14.6136 - mae: 14.6136\n",
            "Epoch 95/200\n",
            "1/1 [==============================] - 0s 7ms/step - loss: 15.6736 - mae: 15.6736\n",
            "Epoch 96/200\n",
            "1/1 [==============================] - 0s 7ms/step - loss: 12.6445 - mae: 12.6445\n",
            "Epoch 97/200\n",
            "1/1 [==============================] - 0s 11ms/step - loss: 15.1223 - mae: 15.1223\n",
            "Epoch 98/200\n",
            "1/1 [==============================] - 0s 8ms/step - loss: 13.3693 - mae: 13.3693\n",
            "Epoch 99/200\n",
            "1/1 [==============================] - 0s 10ms/step - loss: 14.5565 - mae: 14.5565\n",
            "Epoch 100/200\n",
            "1/1 [==============================] - 0s 6ms/step - loss: 14.1135 - mae: 14.1135\n",
            "Epoch 101/200\n",
            "1/1 [==============================] - 0s 6ms/step - loss: 13.9757 - mae: 13.9757\n",
            "Epoch 102/200\n",
            "1/1 [==============================] - 0s 7ms/step - loss: 14.9267 - mae: 14.9267\n",
            "Epoch 103/200\n",
            "1/1 [==============================] - 0s 7ms/step - loss: 15.4234 - mae: 15.4234\n",
            "Epoch 104/200\n",
            "1/1 [==============================] - 0s 6ms/step - loss: 12.9074 - mae: 12.9074\n",
            "Epoch 105/200\n",
            "1/1 [==============================] - 0s 10ms/step - loss: 14.8550 - mae: 14.8550\n",
            "Epoch 106/200\n",
            "1/1 [==============================] - 0s 6ms/step - loss: 13.6547 - mae: 13.6547\n",
            "Epoch 107/200\n",
            "1/1 [==============================] - 0s 6ms/step - loss: 14.2715 - mae: 14.2715\n",
            "Epoch 108/200\n",
            "1/1 [==============================] - 0s 6ms/step - loss: 14.4317 - mae: 14.4317\n",
            "Epoch 109/200\n",
            "1/1 [==============================] - 0s 6ms/step - loss: 15.6931 - mae: 15.6931\n",
            "Epoch 110/200\n",
            "1/1 [==============================] - 0s 6ms/step - loss: 12.4883 - mae: 12.4883\n",
            "Epoch 111/200\n",
            "1/1 [==============================] - 0s 14ms/step - loss: 15.1217 - mae: 15.1217\n",
            "Epoch 112/200\n",
            "1/1 [==============================] - 0s 6ms/step - loss: 13.2394 - mae: 13.2394\n",
            "Epoch 113/200\n",
            "1/1 [==============================] - 0s 12ms/step - loss: 14.5350 - mae: 14.5350\n",
            "Epoch 114/200\n",
            "1/1 [==============================] - 0s 10ms/step - loss: 14.0108 - mae: 14.0108\n",
            "Epoch 115/200\n",
            "1/1 [==============================] - 0s 7ms/step - loss: 13.9326 - mae: 13.9326\n",
            "Epoch 116/200\n",
            "1/1 [==============================] - 0s 11ms/step - loss: 14.8694 - mae: 14.8694\n",
            "Epoch 117/200\n",
            "1/1 [==============================] - 0s 15ms/step - loss: 15.3645 - mae: 15.3645\n",
            "Epoch 118/200\n",
            "1/1 [==============================] - 0s 9ms/step - loss: 12.8564 - mae: 12.8564\n",
            "Epoch 119/200\n",
            "1/1 [==============================] - 0s 13ms/step - loss: 14.7741 - mae: 14.7741\n",
            "Epoch 120/200\n",
            "1/1 [==============================] - 0s 5ms/step - loss: 13.6325 - mae: 13.6325\n",
            "Epoch 121/200\n",
            "1/1 [==============================] - 0s 6ms/step - loss: 14.1679 - mae: 14.1679\n",
            "Epoch 122/200\n",
            "1/1 [==============================] - 0s 6ms/step - loss: 14.4654 - mae: 14.4654\n",
            "Epoch 123/200\n",
            "1/1 [==============================] - 0s 10ms/step - loss: 15.5774 - mae: 15.5774\n",
            "Epoch 124/200\n",
            "1/1 [==============================] - 0s 6ms/step - loss: 12.5142 - mae: 12.5142\n",
            "Epoch 125/200\n",
            "1/1 [==============================] - 0s 6ms/step - loss: 14.9828 - mae: 14.9828\n",
            "Epoch 126/200\n",
            "1/1 [==============================] - 0s 8ms/step - loss: 13.2956 - mae: 13.2956\n",
            "Epoch 127/200\n",
            "1/1 [==============================] - 0s 6ms/step - loss: 14.3721 - mae: 14.3721\n",
            "Epoch 128/200\n",
            "1/1 [==============================] - 0s 8ms/step - loss: 14.1082 - mae: 14.1082\n",
            "Epoch 129/200\n",
            "1/1 [==============================] - 0s 11ms/step - loss: 15.7613 - mae: 15.7613\n",
            "Epoch 130/200\n",
            "1/1 [==============================] - 0s 6ms/step - loss: 12.2113 - mae: 12.2113\n",
            "Epoch 131/200\n",
            "1/1 [==============================] - 0s 6ms/step - loss: 15.1620 - mae: 15.1620\n",
            "Epoch 132/200\n",
            "1/1 [==============================] - 0s 7ms/step - loss: 12.9987 - mae: 12.9987\n",
            "Epoch 133/200\n",
            "1/1 [==============================] - 0s 7ms/step - loss: 14.5464 - mae: 14.5464\n",
            "Epoch 134/200\n",
            "1/1 [==============================] - 0s 12ms/step - loss: 13.8077 - mae: 13.8077\n",
            "Epoch 135/200\n",
            "1/1 [==============================] - 0s 7ms/step - loss: 13.9141 - mae: 13.9141\n",
            "Epoch 136/200\n",
            "1/1 [==============================] - 0s 11ms/step - loss: 14.7348 - mae: 14.7348\n",
            "Epoch 137/200\n",
            "1/1 [==============================] - 0s 6ms/step - loss: 17.0887 - mae: 17.0887\n",
            "Epoch 138/200\n",
            "1/1 [==============================] - 0s 9ms/step - loss: 10.9152 - mae: 10.9152\n",
            "Epoch 139/200\n",
            "1/1 [==============================] - 0s 14ms/step - loss: 16.0815 - mae: 16.0815\n",
            "Epoch 140/200\n",
            "1/1 [==============================] - 0s 7ms/step - loss: 11.6902 - mae: 11.6902\n",
            "Epoch 141/200\n",
            "1/1 [==============================] - 0s 10ms/step - loss: 15.4751 - mae: 15.4751\n",
            "Epoch 142/200\n",
            "1/1 [==============================] - 0s 10ms/step - loss: 12.4866 - mae: 12.4866\n",
            "Epoch 143/200\n",
            "1/1 [==============================] - 0s 13ms/step - loss: 14.8521 - mae: 14.8521\n",
            "Epoch 144/200\n",
            "1/1 [==============================] - 0s 9ms/step - loss: 13.3050 - mae: 13.3050\n",
            "Epoch 145/200\n",
            "1/1 [==============================] - 0s 10ms/step - loss: 14.2121 - mae: 14.2121\n",
            "Epoch 146/200\n",
            "1/1 [==============================] - 0s 14ms/step - loss: 14.1935 - mae: 14.1935\n",
            "Epoch 147/200\n",
            "1/1 [==============================] - 0s 15ms/step - loss: 15.5878 - mae: 15.5878\n",
            "Epoch 148/200\n",
            "1/1 [==============================] - 0s 9ms/step - loss: 12.2798 - mae: 12.2798\n",
            "Epoch 149/200\n",
            "1/1 [==============================] - 0s 8ms/step - loss: 14.9585 - mae: 14.9585\n",
            "Epoch 150/200\n",
            "1/1 [==============================] - 0s 9ms/step - loss: 13.1063 - mae: 13.1063\n",
            "Epoch 151/200\n",
            "1/1 [==============================] - 0s 15ms/step - loss: 14.3118 - mae: 14.3118\n",
            "Epoch 152/200\n",
            "1/1 [==============================] - 0s 9ms/step - loss: 13.9930 - mae: 13.9930\n",
            "Epoch 153/200\n",
            "1/1 [==============================] - 0s 14ms/step - loss: 15.6736 - mae: 15.6736\n",
            "Epoch 154/200\n",
            "1/1 [==============================] - 0s 16ms/step - loss: 12.1093 - mae: 12.1093\n",
            "Epoch 155/200\n",
            "1/1 [==============================] - 0s 8ms/step - loss: 15.0373 - mae: 15.0373\n",
            "Epoch 156/200\n",
            "1/1 [==============================] - 0s 10ms/step - loss: 12.9447 - mae: 12.9447\n",
            "Epoch 157/200\n",
            "1/1 [==============================] - 0s 6ms/step - loss: 14.3835 - mae: 14.3835\n",
            "Epoch 158/200\n",
            "1/1 [==============================] - 0s 8ms/step - loss: 13.8345 - mae: 13.8345\n",
            "Epoch 159/200\n",
            "1/1 [==============================] - 0s 8ms/step - loss: 15.7331 - mae: 15.7331\n",
            "Epoch 160/200\n",
            "1/1 [==============================] - 0s 7ms/step - loss: 11.9741 - mae: 11.9741\n",
            "Epoch 161/200\n",
            "1/1 [==============================] - 0s 10ms/step - loss: 15.0894 - mae: 15.0894\n",
            "Epoch 162/200\n",
            "1/1 [==============================] - 0s 6ms/step - loss: 12.8191 - mae: 12.8191\n",
            "Epoch 163/200\n",
            "1/1 [==============================] - 0s 6ms/step - loss: 14.4278 - mae: 14.4278\n",
            "Epoch 164/200\n",
            "1/1 [==============================] - 0s 16ms/step - loss: 13.7168 - mae: 13.7168\n",
            "Epoch 165/200\n",
            "1/1 [==============================] - 0s 15ms/step - loss: 15.7670 - mae: 15.7670\n",
            "Epoch 166/200\n",
            "1/1 [==============================] - 0s 7ms/step - loss: 11.8734 - mae: 11.8734\n",
            "Epoch 167/200\n",
            "1/1 [==============================] - 0s 10ms/step - loss: 15.1152 - mae: 15.1152\n",
            "Epoch 168/200\n",
            "1/1 [==============================] - 0s 6ms/step - loss: 12.7288 - mae: 12.7288\n",
            "Epoch 169/200\n",
            "1/1 [==============================] - 0s 8ms/step - loss: 14.4453 - mae: 14.4453\n",
            "Epoch 170/200\n",
            "1/1 [==============================] - 0s 6ms/step - loss: 13.6393 - mae: 13.6393\n",
            "Epoch 171/200\n",
            "1/1 [==============================] - 0s 11ms/step - loss: 15.7756 - mae: 15.7756\n",
            "Epoch 172/200\n",
            "1/1 [==============================] - 0s 6ms/step - loss: 11.8067 - mae: 11.8067\n",
            "Epoch 173/200\n",
            "1/1 [==============================] - 0s 5ms/step - loss: 15.1152 - mae: 15.1152\n",
            "Epoch 174/200\n",
            "1/1 [==============================] - 0s 6ms/step - loss: 12.6731 - mae: 12.6731\n",
            "Epoch 175/200\n",
            "1/1 [==============================] - 0s 9ms/step - loss: 14.4363 - mae: 14.4363\n",
            "Epoch 176/200\n",
            "1/1 [==============================] - 0s 6ms/step - loss: 13.6012 - mae: 13.6012\n",
            "Epoch 177/200\n",
            "1/1 [==============================] - 0s 8ms/step - loss: 15.7594 - mae: 15.7594\n",
            "Epoch 178/200\n",
            "1/1 [==============================] - 0s 6ms/step - loss: 11.7732 - mae: 11.7732\n",
            "Epoch 179/200\n",
            "1/1 [==============================] - 0s 9ms/step - loss: 15.0898 - mae: 15.0898\n",
            "Epoch 180/200\n",
            "1/1 [==============================] - 0s 8ms/step - loss: 12.6515 - mae: 12.6515\n",
            "Epoch 181/200\n",
            "1/1 [==============================] - 0s 8ms/step - loss: 14.4014 - mae: 14.4014\n",
            "Epoch 182/200\n",
            "1/1 [==============================] - 0s 6ms/step - loss: 13.6017 - mae: 13.6017\n",
            "Epoch 183/200\n",
            "1/1 [==============================] - 0s 7ms/step - loss: 15.7187 - mae: 15.7187\n",
            "Epoch 184/200\n",
            "1/1 [==============================] - 0s 8ms/step - loss: 11.7724 - mae: 11.7724\n",
            "Epoch 185/200\n",
            "1/1 [==============================] - 0s 8ms/step - loss: 15.0393 - mae: 15.0393\n",
            "Epoch 186/200\n",
            "1/1 [==============================] - 0s 6ms/step - loss: 12.6634 - mae: 12.6634\n",
            "Epoch 187/200\n",
            "1/1 [==============================] - 0s 8ms/step - loss: 14.3407 - mae: 14.3407\n",
            "Epoch 188/200\n",
            "1/1 [==============================] - 0s 9ms/step - loss: 13.6405 - mae: 13.6405\n",
            "Epoch 189/200\n",
            "1/1 [==============================] - 0s 6ms/step - loss: 15.6538 - mae: 15.6538\n",
            "Epoch 190/200\n",
            "1/1 [==============================] - 0s 8ms/step - loss: 11.8039 - mae: 11.8039\n",
            "Epoch 191/200\n",
            "1/1 [==============================] - 0s 7ms/step - loss: 14.9640 - mae: 14.9640\n",
            "Epoch 192/200\n",
            "1/1 [==============================] - 0s 9ms/step - loss: 12.7084 - mae: 12.7084\n",
            "Epoch 193/200\n",
            "1/1 [==============================] - 0s 9ms/step - loss: 14.2546 - mae: 14.2546\n",
            "Epoch 194/200\n",
            "1/1 [==============================] - 0s 10ms/step - loss: 13.7272 - mae: 13.7272\n",
            "Epoch 195/200\n",
            "1/1 [==============================] - 0s 26ms/step - loss: 17.3588 - mae: 17.3588\n",
            "Epoch 196/200\n",
            "1/1 [==============================] - 0s 10ms/step - loss: 10.0700 - mae: 10.0700\n",
            "Epoch 197/200\n",
            "1/1 [==============================] - 0s 11ms/step - loss: 16.2597 - mae: 16.2597\n",
            "Epoch 198/200\n",
            "1/1 [==============================] - 0s 8ms/step - loss: 11.5031 - mae: 11.5031\n",
            "Epoch 199/200\n",
            "1/1 [==============================] - 0s 9ms/step - loss: 15.1284 - mae: 15.1284\n",
            "Epoch 200/200\n",
            "1/1 [==============================] - 0s 10ms/step - loss: 12.4161 - mae: 12.4161\n"
          ]
        },
        {
          "output_type": "execute_result",
          "data": {
            "text/plain": [
              "<keras.callbacks.History at 0x7f12f9f6b550>"
            ]
          },
          "metadata": {},
          "execution_count": 39
        }
      ]
    },
    {
      "cell_type": "code",
      "source": [
        "model_2.summary()"
      ],
      "metadata": {
        "id": "JkOVKsc7Avx0",
        "outputId": "d1bade55-4a8f-4c39-8215-6211e0ad3686",
        "colab": {
          "base_uri": "https://localhost:8080/"
        }
      },
      "execution_count": 40,
      "outputs": [
        {
          "output_type": "stream",
          "name": "stdout",
          "text": [
            "Model: \"Model_2\"\n",
            "_________________________________________________________________\n",
            " Layer (type)                Output Shape              Param #   \n",
            "=================================================================\n",
            " First_Dense_Layer (Dense)   (None, 10)                20        \n",
            "                                                                 \n",
            " Second_Dense_Layer (Dense)  (None, 1)                 11        \n",
            "                                                                 \n",
            "=================================================================\n",
            "Total params: 31\n",
            "Trainable params: 31\n",
            "Non-trainable params: 0\n",
            "_________________________________________________________________\n"
          ]
        }
      ]
    },
    {
      "cell_type": "code",
      "source": [
        "from tensorflow.keras.utils import plot_model"
      ],
      "metadata": {
        "id": "EzaWvEufBRnK"
      },
      "execution_count": 41,
      "outputs": []
    },
    {
      "cell_type": "code",
      "source": [
        "plot_model(model=model_2,show_shapes='True')"
      ],
      "metadata": {
        "id": "vRMNN_3QBsUY",
        "outputId": "676c7d29-8da7-4c13-a9e1-6ff27dfea4ca",
        "colab": {
          "base_uri": "https://localhost:8080/",
          "height": 312
        }
      },
      "execution_count": 42,
      "outputs": [
        {
          "output_type": "execute_result",
          "data": {
            "image/png": "[encoded data removed]",
            "text/plain": [
              "<IPython.core.display.Image object>"
            ]
          },
          "metadata": {},
          "execution_count": 42
        }
      ]
    },
    {
      "cell_type": "markdown",
      "source": [
        "Predct and plot the predictions."
      ],
      "metadata": {
        "id": "KNHl64wfDgOm"
      }
    },
    {
      "cell_type": "code",
      "source": [
        "y_predict_2=model_2.predict(X_test)"
      ],
      "metadata": {
        "id": "6kVbM99qB7Y0"
      },
      "execution_count": 43,
      "outputs": []
    },
    {
      "cell_type": "code",
      "source": [
        "plot_prediction_graph(X_train,X_test,y_train,y_test,y_predict_2)"
      ],
      "metadata": {
        "id": "qjnkgV4KDuXm",
        "outputId": "9dd5ec23-8385-4238-c9ba-ee2d37f91094",
        "colab": {
          "base_uri": "https://localhost:8080/",
          "height": 265
        }
      },
      "execution_count": 44,
      "outputs": [
        {
          "output_type": "display_data",
          "data": {
            "image/png": "[encoded data removed]",
            "text/plain": [
              "<Figure size 432x288 with 1 Axes>"
            ]
          },
          "metadata": {
            "needs_background": "light"
          }
        }
      ]
    },
    {
      "cell_type": "code",
      "source": [
        "mae_2=evaluation(y_test,y_predict_2,\"mae\")"
      ],
      "metadata": {
        "id": "kZ-DENufD1Cu"
      },
      "execution_count": 45,
      "outputs": []
    },
    {
      "cell_type": "code",
      "source": [
        "mse_2=evaluation(y_test,y_predict_2,\"mse\")"
      ],
      "metadata": {
        "id": "X_6qM9AZD5su"
      },
      "execution_count": 46,
      "outputs": []
    },
    {
      "cell_type": "markdown",
      "source": [
        "Third try with model_3 with 2 Dense layers with 10 units and 500 epochs."
      ],
      "metadata": {
        "id": "Ogo1Od9aVa7V"
      }
    },
    {
      "cell_type": "code",
      "source": [
        "tf.random.set_seed(42)\n",
        "\n",
        "model_3=tf.keras.Sequential(\n",
        "    [tf.keras.layers.Dense(10),\n",
        "     tf.keras.layers.Dense(1)]\n",
        ")\n",
        "\n",
        "model_3.compile(\n",
        "    loss=tf.keras.losses.mae,\n",
        "    optimizer=tf.keras.optimizers.SGD(),\n",
        "    metrics=[\"mse\"]\n",
        ")\n",
        "\n",
        "model_3.fit(tf.expand_dims(X_train,axis=-1),y_train,epochs=500,)"
      ],
      "metadata": {
        "id": "jOspUotBD9Um",
        "outputId": "a296240b-cbdc-40e5-c186-efadc073e317",
        "colab": {
          "base_uri": "https://localhost:8080/"
        }
      },
      "execution_count": 47,
      "outputs": [
        {
          "output_type": "stream",
          "name": "stdout",
          "text": [
            "Epoch 1/500\n",
            "1/1 [==============================] - 1s 643ms/step - loss: 24.1219 - mse: 792.9432\n",
            "Epoch 2/500\n",
            "1/1 [==============================] - 0s 12ms/step - loss: 34.2155 - mse: 1756.2391\n",
            "Epoch 3/500\n",
            "1/1 [==============================] - 0s 16ms/step - loss: 29.9081 - mse: 1231.4382\n",
            "Epoch 4/500\n",
            "1/1 [==============================] - 0s 15ms/step - loss: 14.4486 - mse: 257.9333\n",
            "Epoch 5/500\n",
            "1/1 [==============================] - 0s 20ms/step - loss: 20.8533 - mse: 587.7953\n",
            "Epoch 6/500\n",
            "1/1 [==============================] - 0s 15ms/step - loss: 17.6748 - mse: 443.8245\n",
            "Epoch 7/500\n",
            "1/1 [==============================] - 0s 19ms/step - loss: 20.6085 - mse: 573.8275\n",
            "Epoch 8/500\n",
            "1/1 [==============================] - 0s 18ms/step - loss: 13.8896 - mse: 231.2874\n",
            "Epoch 9/500\n",
            "1/1 [==============================] - 0s 17ms/step - loss: 17.2076 - mse: 396.6920\n",
            "Epoch 10/500\n",
            "1/1 [==============================] - 0s 12ms/step - loss: 15.0397 - mse: 290.7949\n",
            "Epoch 11/500\n",
            "1/1 [==============================] - 0s 11ms/step - loss: 15.4349 - mse: 318.2325\n",
            "Epoch 12/500\n",
            "1/1 [==============================] - 0s 20ms/step - loss: 15.9787 - mse: 346.4370\n",
            "Epoch 13/500\n",
            "1/1 [==============================] - 0s 17ms/step - loss: 16.3033 - mse: 355.3540\n",
            "Epoch 14/500\n",
            "1/1 [==============================] - 0s 11ms/step - loss: 13.9692 - mse: 236.2838\n",
            "Epoch 15/500\n",
            "1/1 [==============================] - 0s 15ms/step - loss: 15.3652 - mse: 315.3683\n",
            "Epoch 16/500\n",
            "1/1 [==============================] - 0s 12ms/step - loss: 14.6743 - mse: 272.4440\n",
            "Epoch 17/500\n",
            "1/1 [==============================] - 0s 16ms/step - loss: 14.6238 - mse: 285.5499\n",
            "Epoch 18/500\n",
            "1/1 [==============================] - 0s 17ms/step - loss: 14.5487 - mse: 266.3222\n",
            "Epoch 19/500\n",
            "1/1 [==============================] - 0s 11ms/step - loss: 14.5877 - mse: 284.1297\n",
            "Epoch 20/500\n",
            "1/1 [==============================] - 0s 17ms/step - loss: 14.4025 - mse: 259.2247\n",
            "Epoch 21/500\n",
            "1/1 [==============================] - 0s 15ms/step - loss: 14.6056 - mse: 284.8795\n",
            "Epoch 22/500\n",
            "1/1 [==============================] - 0s 14ms/step - loss: 14.2452 - mse: 251.6852\n",
            "Epoch 23/500\n",
            "1/1 [==============================] - 0s 17ms/step - loss: 14.6564 - mse: 286.9610\n",
            "Epoch 24/500\n",
            "1/1 [==============================] - 0s 13ms/step - loss: 14.0828 - mse: 244.0321\n",
            "Epoch 25/500\n",
            "1/1 [==============================] - 0s 15ms/step - loss: 14.7280 - mse: 289.8511\n",
            "Epoch 26/500\n",
            "1/1 [==============================] - 0s 19ms/step - loss: 14.6900 - mse: 275.8588\n",
            "Epoch 27/500\n",
            "1/1 [==============================] - 0s 11ms/step - loss: 14.2536 - mse: 271.0370\n",
            "Epoch 28/500\n",
            "1/1 [==============================] - 0s 11ms/step - loss: 14.5221 - mse: 267.4380\n",
            "Epoch 29/500\n",
            "1/1 [==============================] - 0s 15ms/step - loss: 14.3448 - mse: 274.6326\n",
            "Epoch 30/500\n",
            "1/1 [==============================] - 0s 17ms/step - loss: 14.3571 - mse: 259.3226\n",
            "Epoch 31/500\n",
            "1/1 [==============================] - 0s 21ms/step - loss: 14.4380 - mse: 278.3405\n",
            "Epoch 32/500\n",
            "1/1 [==============================] - 0s 18ms/step - loss: 14.1957 - mse: 251.5481\n",
            "Epoch 33/500\n",
            "1/1 [==============================] - 0s 17ms/step - loss: 14.5310 - mse: 282.0821\n",
            "Epoch 34/500\n",
            "1/1 [==============================] - 0s 45ms/step - loss: 14.0385 - mse: 244.1299\n",
            "Epoch 35/500\n",
            "1/1 [==============================] - 0s 21ms/step - loss: 14.6252 - mse: 285.8054\n",
            "Epoch 36/500\n",
            "1/1 [==============================] - 0s 18ms/step - loss: 14.6554 - mse: 276.6379\n",
            "Epoch 37/500\n",
            "1/1 [==============================] - 0s 12ms/step - loss: 14.1591 - mse: 267.4899\n",
            "Epoch 38/500\n",
            "1/1 [==============================] - 0s 15ms/step - loss: 14.5029 - mse: 268.9905\n",
            "Epoch 39/500\n",
            "1/1 [==============================] - 0s 20ms/step - loss: 14.2489 - mse: 271.0105\n",
            "Epoch 40/500\n",
            "1/1 [==============================] - 0s 6ms/step - loss: 14.3553 - mse: 261.7307\n",
            "Epoch 41/500\n",
            "1/1 [==============================] - 0s 15ms/step - loss: 14.3356 - mse: 274.4444\n",
            "Epoch 42/500\n",
            "1/1 [==============================] - 0s 10ms/step - loss: 14.2127 - mse: 254.8470\n",
            "Epoch 43/500\n",
            "1/1 [==============================] - 0s 14ms/step - loss: 14.4190 - mse: 277.7817\n",
            "Epoch 44/500\n",
            "1/1 [==============================] - 0s 12ms/step - loss: 14.0751 - mse: 248.3266\n",
            "Epoch 45/500\n",
            "1/1 [==============================] - 0s 9ms/step - loss: 14.5023 - mse: 281.0154\n",
            "Epoch 46/500\n",
            "1/1 [==============================] - 0s 9ms/step - loss: 14.7141 - mse: 282.5711\n",
            "Epoch 47/500\n",
            "1/1 [==============================] - 0s 11ms/step - loss: 14.0207 - mse: 262.2825\n",
            "Epoch 48/500\n",
            "1/1 [==============================] - 0s 11ms/step - loss: 14.5821 - mse: 275.9109\n",
            "Epoch 49/500\n",
            "1/1 [==============================] - 0s 19ms/step - loss: 14.0967 - mse: 265.2348\n",
            "Epoch 50/500\n",
            "1/1 [==============================] - 0s 14ms/step - loss: 14.4552 - mse: 269.6136\n",
            "Epoch 51/500\n",
            "1/1 [==============================] - 0s 7ms/step - loss: 14.1691 - mse: 268.0760\n",
            "Epoch 52/500\n",
            "1/1 [==============================] - 0s 12ms/step - loss: 14.3333 - mse: 263.6654\n",
            "Epoch 53/500\n",
            "1/1 [==============================] - 0s 11ms/step - loss: 14.2381 - mse: 270.8036\n",
            "Epoch 54/500\n",
            "1/1 [==============================] - 0s 12ms/step - loss: 14.2163 - mse: 258.0531\n",
            "Epoch 55/500\n",
            "1/1 [==============================] - 0s 14ms/step - loss: 14.3043 - mse: 273.4150\n",
            "Epoch 56/500\n",
            "1/1 [==============================] - 0s 9ms/step - loss: 14.8806 - mse: 294.7578\n",
            "Epoch 57/500\n",
            "1/1 [==============================] - 0s 13ms/step - loss: 13.8063 - mse: 254.2555\n",
            "Epoch 58/500\n",
            "1/1 [==============================] - 0s 9ms/step - loss: 14.7694 - mse: 289.0671\n",
            "Epoch 59/500\n",
            "1/1 [==============================] - 0s 12ms/step - loss: 13.8674 - mse: 256.5907\n",
            "Epoch 60/500\n",
            "1/1 [==============================] - 0s 17ms/step - loss: 14.6632 - mse: 283.7147\n",
            "Epoch 61/500\n",
            "1/1 [==============================] - 0s 11ms/step - loss: 13.9250 - mse: 258.8094\n",
            "Epoch 62/500\n",
            "1/1 [==============================] - 0s 10ms/step - loss: 14.5618 - mse: 278.6888\n",
            "Epoch 63/500\n",
            "1/1 [==============================] - 0s 19ms/step - loss: 13.9791 - mse: 260.9101\n",
            "Epoch 64/500\n",
            "1/1 [==============================] - 0s 10ms/step - loss: 14.4653 - mse: 273.9784\n",
            "Epoch 65/500\n",
            "1/1 [==============================] - 0s 9ms/step - loss: 14.0298 - mse: 262.8912\n",
            "Epoch 66/500\n",
            "1/1 [==============================] - 0s 13ms/step - loss: 14.3737 - mse: 269.5735\n",
            "Epoch 67/500\n",
            "1/1 [==============================] - 0s 12ms/step - loss: 14.0769 - mse: 264.7515\n",
            "Epoch 68/500\n",
            "1/1 [==============================] - 0s 14ms/step - loss: 14.2868 - mse: 265.4645\n",
            "Epoch 69/500\n",
            "1/1 [==============================] - 0s 12ms/step - loss: 14.1221 - mse: 266.4898\n",
            "Epoch 70/500\n",
            "1/1 [==============================] - 0s 14ms/step - loss: 14.9877 - mse: 305.0159\n",
            "Epoch 71/500\n",
            "1/1 [==============================] - 0s 15ms/step - loss: 15.6031 - mse: 325.5922\n",
            "Epoch 72/500\n",
            "1/1 [==============================] - 0s 26ms/step - loss: 12.9647 - mse: 201.7499\n",
            "Epoch 73/500\n",
            "1/1 [==============================] - 0s 9ms/step - loss: 15.0859 - mse: 304.1081\n",
            "Epoch 74/500\n",
            "1/1 [==============================] - 0s 13ms/step - loss: 13.6448 - mse: 233.9522\n",
            "Epoch 75/500\n",
            "1/1 [==============================] - 0s 8ms/step - loss: 14.5552 - mse: 282.9937\n",
            "Epoch 76/500\n",
            "1/1 [==============================] - 0s 11ms/step - loss: 14.3429 - mse: 270.5170\n",
            "Epoch 77/500\n",
            "1/1 [==============================] - 0s 13ms/step - loss: 14.0108 - mse: 262.3070\n",
            "Epoch 78/500\n",
            "1/1 [==============================] - 0s 15ms/step - loss: 15.0848 - mse: 311.7446\n",
            "Epoch 79/500\n",
            "1/1 [==============================] - 0s 13ms/step - loss: 15.4882 - mse: 320.8157\n",
            "Epoch 80/500\n",
            "1/1 [==============================] - 0s 12ms/step - loss: 13.0452 - mse: 206.8638\n",
            "Epoch 81/500\n",
            "1/1 [==============================] - 0s 12ms/step - loss: 14.9569 - mse: 298.9251\n",
            "Epoch 82/500\n",
            "1/1 [==============================] - 0s 12ms/step - loss: 13.7439 - mse: 240.6862\n",
            "Epoch 83/500\n",
            "1/1 [==============================] - 0s 14ms/step - loss: 14.4117 - mse: 277.4415\n",
            "Epoch 84/500\n",
            "1/1 [==============================] - 0s 16ms/step - loss: 14.4611 - mse: 279.1137\n",
            "Epoch 85/500\n",
            "1/1 [==============================] - 0s 7ms/step - loss: 13.8534 - mse: 256.4274\n",
            "Epoch 86/500\n",
            "1/1 [==============================] - 0s 7ms/step - loss: 14.4107 - mse: 276.9150\n",
            "Epoch 87/500\n",
            "1/1 [==============================] - 0s 17ms/step - loss: 13.8717 - mse: 257.1277\n",
            "Epoch 88/500\n",
            "1/1 [==============================] - 0s 8ms/step - loss: 15.2046 - mse: 320.3124\n",
            "Epoch 89/500\n",
            "1/1 [==============================] - 0s 8ms/step - loss: 15.3443 - mse: 314.8853\n",
            "Epoch 90/500\n",
            "1/1 [==============================] - 0s 12ms/step - loss: 13.1445 - mse: 213.4461\n",
            "Epoch 91/500\n",
            "1/1 [==============================] - 0s 22ms/step - loss: 14.7950 - mse: 292.4803\n",
            "Epoch 92/500\n",
            "1/1 [==============================] - 0s 10ms/step - loss: 13.8670 - mse: 249.3783\n",
            "Epoch 93/500\n",
            "1/1 [==============================] - 0s 8ms/step - loss: 14.2312 - mse: 270.5333\n",
            "Epoch 94/500\n",
            "1/1 [==============================] - 0s 7ms/step - loss: 14.6136 - mse: 290.2347\n",
            "Epoch 95/500\n",
            "1/1 [==============================] - 0s 8ms/step - loss: 15.6736 - mse: 328.8950\n",
            "Epoch 96/500\n",
            "1/1 [==============================] - 0s 10ms/step - loss: 12.6445 - mse: 192.1367\n",
            "Epoch 97/500\n",
            "1/1 [==============================] - 0s 11ms/step - loss: 15.1223 - mse: 305.7709\n",
            "Epoch 98/500\n",
            "1/1 [==============================] - 0s 10ms/step - loss: 13.3693 - mse: 225.8211\n",
            "Epoch 99/500\n",
            "1/1 [==============================] - 0s 9ms/step - loss: 14.5565 - mse: 283.0900\n",
            "Epoch 100/500\n",
            "1/1 [==============================] - 0s 18ms/step - loss: 14.1135 - mse: 264.4025\n",
            "Epoch 101/500\n",
            "1/1 [==============================] - 0s 9ms/step - loss: 13.9757 - mse: 260.9207\n",
            "Epoch 102/500\n",
            "1/1 [==============================] - 0s 7ms/step - loss: 14.9267 - mse: 308.2264\n",
            "Epoch 103/500\n",
            "1/1 [==============================] - 0s 7ms/step - loss: 15.4234 - mse: 318.3606\n",
            "Epoch 104/500\n",
            "1/1 [==============================] - 0s 13ms/step - loss: 12.9074 - mse: 205.3426\n",
            "Epoch 105/500\n",
            "1/1 [==============================] - 0s 6ms/step - loss: 14.8550 - mse: 294.9711\n",
            "Epoch 106/500\n",
            "1/1 [==============================] - 0s 7ms/step - loss: 13.6547 - mse: 241.8572\n",
            "Epoch 107/500\n",
            "1/1 [==============================] - 0s 7ms/step - loss: 14.2715 - mse: 272.0815\n",
            "Epoch 108/500\n",
            "1/1 [==============================] - 0s 7ms/step - loss: 14.4317 - mse: 283.6021\n",
            "Epoch 109/500\n",
            "1/1 [==============================] - 0s 8ms/step - loss: 15.6931 - mse: 329.9464\n",
            "Epoch 110/500\n",
            "1/1 [==============================] - 0s 7ms/step - loss: 12.4883 - mse: 187.9267\n",
            "Epoch 111/500\n",
            "1/1 [==============================] - 0s 7ms/step - loss: 15.1217 - mse: 305.8827\n",
            "Epoch 112/500\n",
            "1/1 [==============================] - 0s 7ms/step - loss: 13.2394 - mse: 222.6159\n",
            "Epoch 113/500\n",
            "1/1 [==============================] - 0s 10ms/step - loss: 14.5350 - mse: 282.3096\n",
            "Epoch 114/500\n",
            "1/1 [==============================] - 0s 8ms/step - loss: 14.0108 - mse: 262.5376\n",
            "Epoch 115/500\n",
            "1/1 [==============================] - 0s 10ms/step - loss: 13.9326 - mse: 259.3022\n",
            "Epoch 116/500\n",
            "1/1 [==============================] - 0s 12ms/step - loss: 14.8694 - mse: 308.0654\n",
            "Epoch 117/500\n",
            "1/1 [==============================] - 0s 17ms/step - loss: 15.3645 - mse: 316.0678\n",
            "Epoch 118/500\n",
            "1/1 [==============================] - 0s 12ms/step - loss: 12.8564 - mse: 205.8320\n",
            "Epoch 119/500\n",
            "1/1 [==============================] - 0s 10ms/step - loss: 14.7741 - mse: 291.8331\n",
            "Epoch 120/500\n",
            "1/1 [==============================] - 0s 8ms/step - loss: 13.6325 - mse: 244.1216\n",
            "Epoch 121/500\n",
            "1/1 [==============================] - 0s 18ms/step - loss: 14.1679 - mse: 268.1581\n",
            "Epoch 122/500\n",
            "1/1 [==============================] - 0s 10ms/step - loss: 14.4654 - mse: 288.0364\n",
            "Epoch 123/500\n",
            "1/1 [==============================] - 0s 7ms/step - loss: 15.5774 - mse: 325.2037\n",
            "Epoch 124/500\n",
            "1/1 [==============================] - 0s 19ms/step - loss: 12.5142 - mse: 191.6389\n",
            "Epoch 125/500\n",
            "1/1 [==============================] - 0s 11ms/step - loss: 14.9828 - mse: 300.3397\n",
            "Epoch 126/500\n",
            "1/1 [==============================] - 0s 7ms/step - loss: 13.2956 - mse: 228.5342\n",
            "Epoch 127/500\n",
            "1/1 [==============================] - 0s 7ms/step - loss: 14.3721 - mse: 276.0327\n",
            "Epoch 128/500\n",
            "1/1 [==============================] - 0s 7ms/step - loss: 14.1082 - mse: 271.0883\n",
            "Epoch 129/500\n",
            "1/1 [==============================] - 0s 12ms/step - loss: 15.7613 - mse: 333.2610\n",
            "Epoch 130/500\n",
            "1/1 [==============================] - 0s 7ms/step - loss: 12.2113 - mse: 179.7250\n",
            "Epoch 131/500\n",
            "1/1 [==============================] - 0s 10ms/step - loss: 15.1620 - mse: 307.7981\n",
            "Epoch 132/500\n",
            "1/1 [==============================] - 0s 7ms/step - loss: 12.9987 - mse: 215.4573\n",
            "Epoch 133/500\n",
            "1/1 [==============================] - 0s 7ms/step - loss: 14.5464 - mse: 282.8924\n",
            "Epoch 134/500\n",
            "1/1 [==============================] - 0s 7ms/step - loss: 13.8077 - mse: 256.8967\n",
            "Epoch 135/500\n",
            "1/1 [==============================] - 0s 7ms/step - loss: 13.9141 - mse: 258.6279\n",
            "Epoch 136/500\n",
            "1/1 [==============================] - 0s 11ms/step - loss: 14.7348 - mse: 304.4593\n",
            "Epoch 137/500\n",
            "1/1 [==============================] - 0s 9ms/step - loss: 17.0887 - mse: 393.7338\n",
            "Epoch 138/500\n",
            "1/1 [==============================] - 0s 11ms/step - loss: 10.9152 - mse: 132.0423\n",
            "Epoch 139/500\n",
            "1/1 [==============================] - 0s 7ms/step - loss: 16.0815 - mse: 347.6069\n",
            "Epoch 140/500\n",
            "1/1 [==============================] - 0s 9ms/step - loss: 11.6902 - mse: 160.2631\n",
            "Epoch 141/500\n",
            "1/1 [==============================] - 0s 10ms/step - loss: 15.4751 - mse: 321.1434\n",
            "Epoch 142/500\n",
            "1/1 [==============================] - 0s 14ms/step - loss: 12.4866 - mse: 193.8529\n",
            "Epoch 143/500\n",
            "1/1 [==============================] - 0s 20ms/step - loss: 14.8521 - mse: 295.2324\n",
            "Epoch 144/500\n",
            "1/1 [==============================] - 0s 8ms/step - loss: 13.3050 - mse: 233.2139\n",
            "Epoch 145/500\n",
            "1/1 [==============================] - 0s 11ms/step - loss: 14.2121 - mse: 269.9604\n",
            "Epoch 146/500\n",
            "1/1 [==============================] - 0s 17ms/step - loss: 14.1935 - mse: 278.7729\n",
            "Epoch 147/500\n",
            "1/1 [==============================] - 0s 7ms/step - loss: 15.5878 - mse: 326.0957\n",
            "Epoch 148/500\n",
            "1/1 [==============================] - 0s 18ms/step - loss: 12.2798 - mse: 185.9121\n",
            "Epoch 149/500\n",
            "1/1 [==============================] - 0s 7ms/step - loss: 14.9585 - mse: 299.6514\n",
            "Epoch 150/500\n",
            "1/1 [==============================] - 0s 7ms/step - loss: 13.1063 - mse: 224.7224\n",
            "Epoch 151/500\n",
            "1/1 [==============================] - 0s 9ms/step - loss: 14.3118 - mse: 273.8565\n",
            "Epoch 152/500\n",
            "1/1 [==============================] - 0s 8ms/step - loss: 13.9930 - mse: 269.8260\n",
            "Epoch 153/500\n",
            "1/1 [==============================] - 0s 7ms/step - loss: 15.6736 - mse: 329.9378\n",
            "Epoch 154/500\n",
            "1/1 [==============================] - 0s 7ms/step - loss: 12.1093 - mse: 179.7000\n",
            "Epoch 155/500\n",
            "1/1 [==============================] - 0s 7ms/step - loss: 15.0373 - mse: 302.9907\n",
            "Epoch 156/500\n",
            "1/1 [==============================] - 0s 9ms/step - loss: 12.9447 - mse: 218.1934\n",
            "Epoch 157/500\n",
            "1/1 [==============================] - 0s 7ms/step - loss: 14.3835 - mse: 276.7062\n",
            "Epoch 158/500\n",
            "1/1 [==============================] - 0s 6ms/step - loss: 13.8345 - mse: 263.0919\n",
            "Epoch 159/500\n",
            "1/1 [==============================] - 0s 22ms/step - loss: 15.7331 - mse: 332.6701\n",
            "Epoch 160/500\n",
            "1/1 [==============================] - 0s 16ms/step - loss: 11.9741 - mse: 175.0826\n",
            "Epoch 161/500\n",
            "1/1 [==============================] - 0s 12ms/step - loss: 15.0894 - mse: 305.2496\n",
            "Epoch 162/500\n",
            "1/1 [==============================] - 0s 11ms/step - loss: 12.8191 - mse: 213.4937\n",
            "Epoch 163/500\n",
            "1/1 [==============================] - 0s 16ms/step - loss: 14.4278 - mse: 278.5083\n",
            "Epoch 164/500\n",
            "1/1 [==============================] - 0s 8ms/step - loss: 13.7168 - mse: 258.4389\n",
            "Epoch 165/500\n",
            "1/1 [==============================] - 0s 7ms/step - loss: 15.7670 - mse: 334.2965\n",
            "Epoch 166/500\n",
            "1/1 [==============================] - 0s 7ms/step - loss: 11.8734 - mse: 171.9594\n",
            "Epoch 167/500\n",
            "1/1 [==============================] - 0s 15ms/step - loss: 15.1152 - mse: 306.4318\n",
            "Epoch 168/500\n",
            "1/1 [==============================] - 0s 9ms/step - loss: 12.7288 - mse: 210.5247\n",
            "Epoch 169/500\n",
            "1/1 [==============================] - 0s 9ms/step - loss: 14.4453 - mse: 279.2665\n",
            "Epoch 170/500\n",
            "1/1 [==============================] - 0s 11ms/step - loss: 13.6393 - mse: 255.7716\n",
            "Epoch 171/500\n",
            "1/1 [==============================] - 0s 9ms/step - loss: 15.7756 - mse: 334.8246\n",
            "Epoch 172/500\n",
            "1/1 [==============================] - 0s 11ms/step - loss: 11.8067 - mse: 170.2609\n",
            "Epoch 173/500\n",
            "1/1 [==============================] - 0s 10ms/step - loss: 15.1152 - mse: 306.5448\n",
            "Epoch 174/500\n",
            "1/1 [==============================] - 0s 17ms/step - loss: 12.6731 - mse: 209.2214\n",
            "Epoch 175/500\n",
            "1/1 [==============================] - 0s 12ms/step - loss: 14.4363 - mse: 278.9886\n",
            "Epoch 176/500\n",
            "1/1 [==============================] - 0s 6ms/step - loss: 13.6012 - mse: 255.0288\n",
            "Epoch 177/500\n",
            "1/1 [==============================] - 0s 10ms/step - loss: 15.7594 - mse: 334.2656\n",
            "Epoch 178/500\n",
            "1/1 [==============================] - 0s 8ms/step - loss: 11.7732 - mse: 169.9464\n",
            "Epoch 179/500\n",
            "1/1 [==============================] - 0s 10ms/step - loss: 15.0898 - mse: 305.6009\n",
            "Epoch 180/500\n",
            "1/1 [==============================] - 0s 9ms/step - loss: 12.6515 - mse: 209.5474\n",
            "Epoch 181/500\n",
            "1/1 [==============================] - 0s 11ms/step - loss: 14.4014 - mse: 277.6879\n",
            "Epoch 182/500\n",
            "1/1 [==============================] - 0s 14ms/step - loss: 13.6017 - mse: 256.1807\n",
            "Epoch 183/500\n",
            "1/1 [==============================] - 0s 7ms/step - loss: 15.7187 - mse: 332.6344\n",
            "Epoch 184/500\n",
            "1/1 [==============================] - 0s 13ms/step - loss: 11.7724 - mse: 171.0021\n",
            "Epoch 185/500\n",
            "1/1 [==============================] - 0s 9ms/step - loss: 15.0393 - mse: 303.6159\n",
            "Epoch 186/500\n",
            "1/1 [==============================] - 0s 8ms/step - loss: 12.6634 - mse: 211.4963\n",
            "Epoch 187/500\n",
            "1/1 [==============================] - 0s 25ms/step - loss: 14.3407 - mse: 275.3813\n",
            "Epoch 188/500\n",
            "1/1 [==============================] - 0s 26ms/step - loss: 13.6405 - mse: 259.2281\n",
            "Epoch 189/500\n",
            "1/1 [==============================] - 0s 6ms/step - loss: 15.6538 - mse: 329.9494\n",
            "Epoch 190/500\n",
            "1/1 [==============================] - 0s 14ms/step - loss: 11.8039 - mse: 173.4407\n",
            "Epoch 191/500\n",
            "1/1 [==============================] - 0s 11ms/step - loss: 14.9640 - mse: 300.6096\n",
            "Epoch 192/500\n",
            "1/1 [==============================] - 0s 11ms/step - loss: 12.7084 - mse: 215.0885\n",
            "Epoch 193/500\n",
            "1/1 [==============================] - 0s 11ms/step - loss: 14.2546 - mse: 272.0905\n",
            "Epoch 194/500\n",
            "1/1 [==============================] - 0s 12ms/step - loss: 13.7272 - mse: 264.2009\n",
            "Epoch 195/500\n",
            "1/1 [==============================] - 0s 12ms/step - loss: 17.3588 - mse: 407.2012\n",
            "Epoch 196/500\n",
            "1/1 [==============================] - 0s 12ms/step - loss: 10.0700 - mse: 111.3605\n",
            "Epoch 197/500\n",
            "1/1 [==============================] - 0s 25ms/step - loss: 16.2597 - mse: 356.5457\n",
            "Epoch 198/500\n",
            "1/1 [==============================] - 0s 21ms/step - loss: 11.5031 - mse: 162.3503\n",
            "Epoch 199/500\n",
            "1/1 [==============================] - 0s 10ms/step - loss: 15.1284 - mse: 307.6370\n",
            "Epoch 200/500\n",
            "1/1 [==============================] - 0s 18ms/step - loss: 12.4161 - mse: 202.8080\n",
            "Epoch 201/500\n",
            "1/1 [==============================] - 0s 11ms/step - loss: 14.4121 - mse: 278.4005\n",
            "Epoch 202/500\n",
            "1/1 [==============================] - 0s 18ms/step - loss: 13.4159 - mse: 250.8344\n",
            "Epoch 203/500\n",
            "1/1 [==============================] - 0s 19ms/step - loss: 15.7062 - mse: 332.5031\n",
            "Epoch 204/500\n",
            "1/1 [==============================] - 0s 11ms/step - loss: 12.1829 - mse: 192.8192\n",
            "Epoch 205/500\n",
            "1/1 [==============================] - 0s 12ms/step - loss: 14.5574 - mse: 284.2701\n",
            "Epoch 206/500\n",
            "1/1 [==============================] - 0s 14ms/step - loss: 13.1663 - mse: 239.5912\n",
            "Epoch 207/500\n",
            "1/1 [==============================] - 0s 11ms/step - loss: 15.8444 - mse: 338.4569\n",
            "Epoch 208/500\n",
            "1/1 [==============================] - 0s 25ms/step - loss: 11.9672 - mse: 183.9083\n",
            "Epoch 209/500\n",
            "1/1 [==============================] - 0s 16ms/step - loss: 14.6896 - mse: 289.6888\n",
            "Epoch 210/500\n",
            "1/1 [==============================] - 0s 23ms/step - loss: 12.9365 - mse: 229.5562\n",
            "Epoch 211/500\n",
            "1/1 [==============================] - 0s 25ms/step - loss: 15.9699 - mse: 343.9253\n",
            "Epoch 212/500\n",
            "1/1 [==============================] - 0s 17ms/step - loss: 11.7686 - mse: 175.9875\n",
            "Epoch 213/500\n",
            "1/1 [==============================] - 0s 43ms/step - loss: 14.8089 - mse: 294.6478\n",
            "Epoch 214/500\n",
            "1/1 [==============================] - 0s 21ms/step - loss: 12.7262 - mse: 220.6384\n",
            "Epoch 215/500\n",
            "1/1 [==============================] - 0s 12ms/step - loss: 16.0829 - mse: 348.9025\n",
            "Epoch 216/500\n",
            "1/1 [==============================] - 0s 19ms/step - loss: 11.5867 - mse: 168.9777\n",
            "Epoch 217/500\n",
            "1/1 [==============================] - 0s 9ms/step - loss: 14.9156 - mse: 299.1406\n",
            "Epoch 218/500\n",
            "1/1 [==============================] - 0s 21ms/step - loss: 12.5385 - mse: 212.7556\n",
            "Epoch 219/500\n",
            "1/1 [==============================] - 0s 41ms/step - loss: 14.1681 - mse: 269.0843\n",
            "Epoch 220/500\n",
            "1/1 [==============================] - 0s 15ms/step - loss: 13.6692 - mse: 264.7842\n",
            "Epoch 221/500\n",
            "1/1 [==============================] - 0s 24ms/step - loss: 17.2658 - mse: 403.2061\n",
            "Epoch 222/500\n",
            "1/1 [==============================] - 0s 13ms/step - loss: 9.9802 - mse: 111.2193\n",
            "Epoch 223/500\n",
            "1/1 [==============================] - 0s 15ms/step - loss: 16.1266 - mse: 350.9048\n",
            "Epoch 224/500\n",
            "1/1 [==============================] - 0s 9ms/step - loss: 11.4633 - mse: 165.2555\n",
            "Epoch 225/500\n",
            "1/1 [==============================] - 0s 10ms/step - loss: 14.9447 - mse: 300.5366\n",
            "Epoch 226/500\n",
            "1/1 [==============================] - 0s 13ms/step - loss: 12.4281 - mse: 209.2156\n",
            "Epoch 227/500\n",
            "1/1 [==============================] - 0s 11ms/step - loss: 14.1866 - mse: 269.9378\n",
            "Epoch 228/500\n",
            "1/1 [==============================] - 0s 24ms/step - loss: 13.5790 - mse: 261.6400\n",
            "Epoch 229/500\n",
            "1/1 [==============================] - 0s 9ms/step - loss: 17.2778 - mse: 403.9322\n",
            "Epoch 230/500\n",
            "1/1 [==============================] - 0s 13ms/step - loss: 9.8998 - mse: 109.5677\n",
            "Epoch 231/500\n",
            "1/1 [==============================] - 0s 14ms/step - loss: 16.1281 - mse: 351.0592\n",
            "Epoch 232/500\n",
            "1/1 [==============================] - 0s 13ms/step - loss: 11.3957 - mse: 163.8829\n",
            "Epoch 233/500\n",
            "1/1 [==============================] - 0s 16ms/step - loss: 14.9311 - mse: 300.1620\n",
            "Epoch 234/500\n",
            "1/1 [==============================] - 0s 9ms/step - loss: 12.3808 - mse: 208.4789\n",
            "Epoch 235/500\n",
            "1/1 [==============================] - 0s 25ms/step - loss: 16.1870 - mse: 353.7156\n",
            "Epoch 236/500\n",
            "1/1 [==============================] - 0s 19ms/step - loss: 11.2857 - mse: 160.0600\n",
            "Epoch 237/500\n",
            "1/1 [==============================] - 0s 50ms/step - loss: 14.9830 - mse: 302.4325\n",
            "Epoch 238/500\n",
            "1/1 [==============================] - 0s 21ms/step - loss: 12.2713 - mse: 204.3368\n",
            "Epoch 239/500\n",
            "1/1 [==============================] - 0s 35ms/step - loss: 16.2345 - mse: 355.8807\n",
            "Epoch 240/500\n",
            "1/1 [==============================] - 0s 23ms/step - loss: 11.1906 - mse: 156.8913\n",
            "Epoch 241/500\n",
            "1/1 [==============================] - 0s 27ms/step - loss: 15.0241 - mse: 304.2346\n",
            "Epoch 242/500\n",
            "1/1 [==============================] - 0s 7ms/step - loss: 12.8293 - mse: 229.9978\n",
            "Epoch 243/500\n",
            "1/1 [==============================] - 0s 10ms/step - loss: 17.6280 - mse: 421.1832\n",
            "Epoch 244/500\n",
            "1/1 [==============================] - 0s 7ms/step - loss: 9.3272 - mse: 94.2185\n",
            "Epoch 245/500\n",
            "1/1 [==============================] - 0s 8ms/step - loss: 16.4758 - mse: 366.8165\n",
            "Epoch 246/500\n",
            "1/1 [==============================] - 0s 11ms/step - loss: 10.8252 - mse: 143.4624\n",
            "Epoch 247/500\n",
            "1/1 [==============================] - 0s 6ms/step - loss: 15.2689 - mse: 314.3440\n",
            "Epoch 248/500\n",
            "1/1 [==============================] - 0s 7ms/step - loss: 12.4267 - mse: 212.6368\n",
            "Epoch 249/500\n",
            "1/1 [==============================] - 0s 14ms/step - loss: 16.0727 - mse: 348.8238\n",
            "Epoch 250/500\n",
            "1/1 [==============================] - 0s 12ms/step - loss: 11.3228 - mse: 164.0328\n",
            "Epoch 251/500\n",
            "1/1 [==============================] - 0s 9ms/step - loss: 14.8425 - mse: 296.9061\n",
            "Epoch 252/500\n",
            "1/1 [==============================] - 0s 13ms/step - loss: 12.3674 - mse: 210.6651\n",
            "Epoch 253/500\n",
            "1/1 [==============================] - 0s 26ms/step - loss: 16.0878 - mse: 349.5459\n",
            "Epoch 254/500\n",
            "1/1 [==============================] - 0s 11ms/step - loss: 11.2711 - mse: 162.6205\n",
            "Epoch 255/500\n",
            "1/1 [==============================] - 0s 10ms/step - loss: 14.8520 - mse: 297.3148\n",
            "Epoch 256/500\n",
            "1/1 [==============================] - 0s 12ms/step - loss: 13.0117 - mse: 239.4781\n",
            "Epoch 257/500\n",
            "1/1 [==============================] - 0s 20ms/step - loss: 17.4615 - mse: 413.3788\n",
            "Epoch 258/500\n",
            "1/1 [==============================] - 0s 11ms/step - loss: 9.4357 - mse: 98.4455\n",
            "Epoch 259/500\n",
            "1/1 [==============================] - 0s 37ms/step - loss: 16.2833 - mse: 358.3382\n",
            "Epoch 260/500\n",
            "1/1 [==============================] - 0s 19ms/step - loss: 10.9666 - mse: 151.2074\n",
            "Epoch 261/500\n",
            "1/1 [==============================] - 0s 15ms/step - loss: 15.0486 - mse: 305.3429\n",
            "Epoch 262/500\n",
            "1/1 [==============================] - 0s 18ms/step - loss: 12.6588 - mse: 224.9006\n",
            "Epoch 263/500\n",
            "1/1 [==============================] - 0s 9ms/step - loss: 17.6304 - mse: 421.7752\n",
            "Epoch 264/500\n",
            "1/1 [==============================] - 0s 8ms/step - loss: 9.1676 - mse: 91.4562\n",
            "Epoch 265/500\n",
            "1/1 [==============================] - 0s 7ms/step - loss: 16.4522 - mse: 366.0663\n",
            "Epoch 266/500\n",
            "1/1 [==============================] - 0s 13ms/step - loss: 10.6977 - mse: 141.6601\n",
            "Epoch 267/500\n",
            "1/1 [==============================] - 0s 28ms/step - loss: 15.2174 - mse: 312.3564\n",
            "Epoch 268/500\n",
            "1/1 [==============================] - 0s 11ms/step - loss: 12.3569 - mse: 212.6861\n",
            "Epoch 269/500\n",
            "1/1 [==============================] - 0s 16ms/step - loss: 16.0001 - mse: 345.8886\n",
            "Epoch 270/500\n",
            "1/1 [==============================] - 0s 22ms/step - loss: 11.2593 - mse: 164.9838\n",
            "Epoch 271/500\n",
            "1/1 [==============================] - 0s 16ms/step - loss: 14.7391 - mse: 292.8562\n",
            "Epoch 272/500\n",
            "1/1 [==============================] - 0s 37ms/step - loss: 13.0872 - mse: 244.7104\n",
            "Epoch 273/500\n",
            "1/1 [==============================] - 0s 18ms/step - loss: 17.3460 - mse: 408.1474\n",
            "Epoch 274/500\n",
            "1/1 [==============================] - 0s 12ms/step - loss: 9.4630 - mse: 100.7344\n",
            "Epoch 275/500\n",
            "1/1 [==============================] - 0s 5ms/step - loss: 16.1416 - mse: 352.2480\n",
            "Epoch 276/500\n",
            "1/1 [==============================] - 0s 8ms/step - loss: 11.0265 - mse: 156.3374\n",
            "Epoch 277/500\n",
            "1/1 [==============================] - 0s 5ms/step - loss: 14.8790 - mse: 298.5360\n",
            "Epoch 278/500\n",
            "1/1 [==============================] - 0s 17ms/step - loss: 12.8257 - mse: 233.8690\n",
            "Epoch 279/500\n",
            "1/1 [==============================] - 0s 11ms/step - loss: 17.4644 - mse: 414.0446\n",
            "Epoch 280/500\n",
            "1/1 [==============================] - 0s 17ms/step - loss: 9.2616 - mse: 95.4286\n",
            "Epoch 281/500\n",
            "1/1 [==============================] - 0s 10ms/step - loss: 16.2577 - mse: 357.5398\n",
            "Epoch 282/500\n",
            "1/1 [==============================] - 0s 14ms/step - loss: 10.8275 - mse: 149.3016\n",
            "Epoch 283/500\n",
            "1/1 [==============================] - 0s 17ms/step - loss: 14.9923 - mse: 303.2021\n",
            "Epoch 284/500\n",
            "1/1 [==============================] - 0s 21ms/step - loss: 12.6069 - mse: 225.1092\n",
            "Epoch 285/500\n",
            "1/1 [==============================] - 0s 19ms/step - loss: 17.5593 - mse: 418.8402\n",
            "Epoch 286/500\n",
            "1/1 [==============================] - 0s 15ms/step - loss: 9.0912 - mse: 91.1719\n",
            "Epoch 287/500\n",
            "1/1 [==============================] - 0s 17ms/step - loss: 16.3491 - mse: 361.7703\n",
            "Epoch 288/500\n",
            "1/1 [==============================] - 0s 13ms/step - loss: 10.6610 - mse: 143.7156\n",
            "Epoch 289/500\n",
            "1/1 [==============================] - 0s 8ms/step - loss: 15.0798 - mse: 306.8578\n",
            "Epoch 290/500\n",
            "1/1 [==============================] - 0s 7ms/step - loss: 12.4292 - mse: 218.2521\n",
            "Epoch 291/500\n",
            "1/1 [==============================] - 0s 6ms/step - loss: 17.6313 - mse: 422.5471\n",
            "Epoch 292/500\n",
            "1/1 [==============================] - 0s 18ms/step - loss: 8.9510 - mse: 87.8479\n",
            "Epoch 293/500\n",
            "1/1 [==============================] - 0s 10ms/step - loss: 16.4166 - mse: 364.9503\n",
            "Epoch 294/500\n",
            "1/1 [==============================] - 0s 8ms/step - loss: 10.5259 - mse: 139.4490\n",
            "Epoch 295/500\n",
            "1/1 [==============================] - 0s 7ms/step - loss: 15.1424 - mse: 309.5119\n",
            "Epoch 296/500\n",
            "1/1 [==============================] - 0s 19ms/step - loss: 12.2915 - mse: 213.1530\n",
            "Epoch 297/500\n",
            "1/1 [==============================] - 0s 25ms/step - loss: 17.6812 - mse: 425.1819\n",
            "Epoch 298/500\n",
            "1/1 [==============================] - 0s 16ms/step - loss: 8.8399 - mse: 85.3652\n",
            "Epoch 299/500\n",
            "1/1 [==============================] - 0s 18ms/step - loss: 16.4610 - mse: 367.0949\n",
            "Epoch 300/500\n",
            "1/1 [==============================] - 0s 8ms/step - loss: 10.4212 - mse: 136.3999\n",
            "Epoch 301/500\n",
            "1/1 [==============================] - 0s 6ms/step - loss: 15.1808 - mse: 311.1776\n",
            "Epoch 302/500\n",
            "1/1 [==============================] - 0s 6ms/step - loss: 12.1923 - mse: 209.6982\n",
            "Epoch 303/500\n",
            "1/1 [==============================] - 0s 10ms/step - loss: 17.7096 - mse: 426.7639\n",
            "Epoch 304/500\n",
            "1/1 [==============================] - 0s 9ms/step - loss: 8.7569 - mse: 83.6551\n",
            "Epoch 305/500\n",
            "1/1 [==============================] - 0s 8ms/step - loss: 16.4829 - mse: 368.2221\n",
            "Epoch 306/500\n",
            "1/1 [==============================] - 0s 10ms/step - loss: 10.3461 - mse: 134.4910\n",
            "Epoch 307/500\n",
            "1/1 [==============================] - 0s 13ms/step - loss: 15.1957 - mse: 311.8715\n",
            "Epoch 308/500\n",
            "1/1 [==============================] - 0s 18ms/step - loss: 12.1306 - mse: 207.8023\n",
            "Epoch 309/500\n",
            "1/1 [==============================] - 0s 15ms/step - loss: 17.7172 - mse: 427.3144\n",
            "Epoch 310/500\n",
            "1/1 [==============================] - 0s 14ms/step - loss: 8.7013 - mse: 82.6697\n",
            "Epoch 311/500\n",
            "1/1 [==============================] - 0s 12ms/step - loss: 16.4829 - mse: 368.3524\n",
            "Epoch 312/500\n",
            "1/1 [==============================] - 0s 12ms/step - loss: 10.2996 - mse: 133.6688\n",
            "Epoch 313/500\n",
            "1/1 [==============================] - 0s 13ms/step - loss: 15.1877 - mse: 311.6134\n",
            "Epoch 314/500\n",
            "1/1 [==============================] - 0s 8ms/step - loss: 12.1053 - mse: 207.4059\n",
            "Epoch 315/500\n",
            "1/1 [==============================] - 0s 9ms/step - loss: 17.7043 - mse: 426.8563\n",
            "Epoch 316/500\n",
            "1/1 [==============================] - 0s 14ms/step - loss: 8.6723 - mse: 82.3801\n",
            "Epoch 317/500\n",
            "1/1 [==============================] - 0s 17ms/step - loss: 16.4616 - mse: 367.5085\n",
            "Epoch 318/500\n",
            "1/1 [==============================] - 0s 22ms/step - loss: 10.2809 - mse: 133.9008\n",
            "Epoch 319/500\n",
            "1/1 [==============================] - 0s 17ms/step - loss: 15.1573 - mse: 310.4258\n",
            "Epoch 320/500\n",
            "1/1 [==============================] - 0s 22ms/step - loss: 12.1155 - mse: 208.4731\n",
            "Epoch 321/500\n",
            "1/1 [==============================] - 0s 14ms/step - loss: 17.6716 - mse: 425.4142\n",
            "Epoch 322/500\n",
            "1/1 [==============================] - 0s 17ms/step - loss: 8.6692 - mse: 82.7742\n",
            "Epoch 323/500\n",
            "1/1 [==============================] - 0s 13ms/step - loss: 16.4195 - mse: 365.7150\n",
            "Epoch 324/500\n",
            "1/1 [==============================] - 0s 19ms/step - loss: 10.2894 - mse: 135.1736\n",
            "Epoch 325/500\n",
            "1/1 [==============================] - 0s 12ms/step - loss: 15.1051 - mse: 308.3337\n",
            "Epoch 326/500\n",
            "1/1 [==============================] - 0s 17ms/step - loss: 12.1604 - mse: 210.9897\n",
            "Epoch 327/500\n",
            "1/1 [==============================] - 0s 15ms/step - loss: 17.6195 - mse: 423.0139\n",
            "Epoch 328/500\n",
            "1/1 [==============================] - 0s 32ms/step - loss: 8.6914 - mse: 83.8560\n",
            "Epoch 329/500\n",
            "1/1 [==============================] - 0s 33ms/step - loss: 16.3570 - mse: 362.9984\n",
            "Epoch 330/500\n",
            "1/1 [==============================] - 0s 26ms/step - loss: 10.3244 - mse: 137.4919\n",
            "Epoch 331/500\n",
            "1/1 [==============================] - 0s 14ms/step - loss: 15.0316 - mse: 305.3641\n",
            "Epoch 332/500\n",
            "1/1 [==============================] - 0s 34ms/step - loss: 12.2419 - mse: 214.9619\n",
            "Epoch 333/500\n",
            "1/1 [==============================] - 0s 10ms/step - loss: 19.0768 - mse: 498.4304\n",
            "Epoch 334/500\n",
            "1/1 [==============================] - 0s 47ms/step - loss: 7.1090 - mse: 50.6972\n",
            "Epoch 335/500\n",
            "1/1 [==============================] - 0s 10ms/step - loss: 17.5846 - mse: 421.5207\n",
            "Epoch 336/500\n",
            "1/1 [==============================] - 0s 13ms/step - loss: 8.6758 - mse: 84.0921\n",
            "Epoch 337/500\n",
            "1/1 [==============================] - 0s 18ms/step - loss: 16.3110 - mse: 361.0764\n",
            "Epoch 338/500\n",
            "1/1 [==============================] - 0s 57ms/step - loss: 10.3229 - mse: 138.7098\n",
            "Epoch 339/500\n",
            "1/1 [==============================] - 0s 27ms/step - loss: 14.9734 - mse: 303.0672\n",
            "Epoch 340/500\n",
            "1/1 [==============================] - 0s 13ms/step - loss: 12.2959 - mse: 217.6174\n",
            "Epoch 341/500\n",
            "1/1 [==============================] - 0s 31ms/step - loss: 19.0252 - mse: 495.8179\n",
            "Epoch 342/500\n",
            "1/1 [==============================] - 0s 7ms/step - loss: 7.1207 - mse: 50.9854\n",
            "Epoch 343/500\n",
            "1/1 [==============================] - 0s 21ms/step - loss: 17.5179 - mse: 418.4664\n",
            "Epoch 344/500\n",
            "1/1 [==============================] - 0s 36ms/step - loss: 8.7028 - mse: 85.5160\n",
            "Epoch 345/500\n",
            "1/1 [==============================] - 0s 48ms/step - loss: 16.2311 - mse: 357.6309\n",
            "Epoch 346/500\n",
            "1/1 [==============================] - 0s 55ms/step - loss: 10.3663 - mse: 141.7395\n",
            "Epoch 347/500\n",
            "1/1 [==============================] - 0s 35ms/step - loss: 14.8795 - mse: 299.3097\n",
            "Epoch 348/500\n",
            "1/1 [==============================] - 0s 27ms/step - loss: 12.4118 - mse: 222.8005\n",
            "Epoch 349/500\n",
            "1/1 [==============================] - 0s 55ms/step - loss: 18.9432 - mse: 491.6174\n",
            "Epoch 350/500\n",
            "1/1 [==============================] - 0s 18ms/step - loss: 7.1721 - mse: 51.9650\n",
            "Epoch 351/500\n",
            "1/1 [==============================] - 0s 38ms/step - loss: 17.4192 - mse: 413.8613\n",
            "Epoch 352/500\n",
            "1/1 [==============================] - 0s 63ms/step - loss: 8.7715 - mse: 88.1757\n",
            "Epoch 353/500\n",
            "1/1 [==============================] - 0s 12ms/step - loss: 16.1176 - mse: 352.6899\n",
            "Epoch 354/500\n",
            "1/1 [==============================] - 0s 25ms/step - loss: 10.4536 - mse: 146.6328\n",
            "Epoch 355/500\n",
            "1/1 [==============================] - 0s 21ms/step - loss: 14.7500 - mse: 294.1336\n",
            "Epoch 356/500\n",
            "1/1 [==============================] - 0s 20ms/step - loss: 12.5884 - mse: 230.5683\n",
            "Epoch 357/500\n",
            "1/1 [==============================] - 0s 18ms/step - loss: 18.8312 - mse: 485.8645\n",
            "Epoch 358/500\n",
            "1/1 [==============================] - 0s 18ms/step - loss: 7.2623 - mse: 53.7085\n",
            "Epoch 359/500\n",
            "1/1 [==============================] - 0s 12ms/step - loss: 17.2892 - mse: 407.7526\n",
            "Epoch 360/500\n",
            "1/1 [==============================] - 0s 17ms/step - loss: 8.8811 - mse: 92.1519\n",
            "Epoch 361/500\n",
            "1/1 [==============================] - 0s 16ms/step - loss: 15.9710 - mse: 346.3096\n",
            "Epoch 362/500\n",
            "1/1 [==============================] - 0s 16ms/step - loss: 10.5974 - mse: 153.4803\n",
            "Epoch 363/500\n",
            "1/1 [==============================] - 0s 22ms/step - loss: 16.6190 - mse: 375.9220\n",
            "Epoch 364/500\n",
            "1/1 [==============================] - 0s 12ms/step - loss: 9.7244 - mse: 120.3119\n",
            "Epoch 365/500\n",
            "1/1 [==============================] - 0s 19ms/step - loss: 15.2624 - mse: 315.5831\n",
            "Epoch 366/500\n",
            "1/1 [==============================] - 0s 14ms/step - loss: 11.6615 - mse: 194.9235\n",
            "Epoch 367/500\n",
            "1/1 [==============================] - 0s 28ms/step - loss: 19.2622 - mse: 508.8874\n",
            "Epoch 368/500\n",
            "1/1 [==============================] - 0s 19ms/step - loss: 6.6389 - mse: 44.0878\n",
            "Epoch 369/500\n",
            "1/1 [==============================] - 0s 20ms/step - loss: 17.7202 - mse: 429.3917\n",
            "Epoch 370/500\n",
            "1/1 [==============================] - 0s 15ms/step - loss: 8.2455 - mse: 75.5743\n",
            "Epoch 371/500\n",
            "1/1 [==============================] - 0s 23ms/step - loss: 16.4102 - mse: 366.4583\n",
            "Epoch 372/500\n",
            "1/1 [==============================] - 0s 23ms/step - loss: 9.9360 - mse: 129.3340\n",
            "Epoch 373/500\n",
            "1/1 [==============================] - 0s 23ms/step - loss: 15.0331 - mse: 306.0887\n",
            "Epoch 374/500\n",
            "1/1 [==============================] - 0s 11ms/step - loss: 12.0080 - mse: 208.6628\n",
            "Epoch 375/500\n",
            "1/1 [==============================] - 0s 14ms/step - loss: 19.0656 - mse: 498.5390\n",
            "Epoch 376/500\n",
            "1/1 [==============================] - 0s 13ms/step - loss: 6.8381 - mse: 47.0590\n",
            "Epoch 377/500\n",
            "1/1 [==============================] - 0s 12ms/step - loss: 17.5023 - mse: 418.8118\n",
            "Epoch 378/500\n",
            "1/1 [==============================] - 0s 15ms/step - loss: 8.4694 - mse: 82.1764\n",
            "Epoch 379/500\n",
            "1/1 [==============================] - 0s 9ms/step - loss: 16.1715 - mse: 355.7657\n",
            "Epoch 380/500\n",
            "1/1 [==============================] - 0s 15ms/step - loss: 10.1862 - mse: 140.4175\n",
            "Epoch 381/500\n",
            "1/1 [==============================] - 0s 11ms/step - loss: 14.7724 - mse: 295.4526\n",
            "Epoch 382/500\n",
            "1/1 [==============================] - 0s 26ms/step - loss: 12.4081 - mse: 225.2004\n",
            "Epoch 383/500\n",
            "1/1 [==============================] - 0s 19ms/step - loss: 18.8423 - mse: 486.8935\n",
            "Epoch 384/500\n",
            "1/1 [==============================] - 0s 10ms/step - loss: 7.0714 - mse: 51.0865\n",
            "Epoch 385/500\n",
            "1/1 [==============================] - 0s 23ms/step - loss: 17.2564 - mse: 406.9970\n",
            "Epoch 386/500\n",
            "1/1 [==============================] - 0s 15ms/step - loss: 8.7293 - mse: 90.4110\n",
            "Epoch 387/500\n",
            "1/1 [==============================] - 0s 16ms/step - loss: 15.9032 - mse: 343.9142\n",
            "Epoch 388/500\n",
            "1/1 [==============================] - 0s 30ms/step - loss: 10.5178 - mse: 153.8011\n",
            "Epoch 389/500\n",
            "1/1 [==============================] - 0s 12ms/step - loss: 16.5251 - mse: 372.2850\n",
            "Epoch 390/500\n",
            "1/1 [==============================] - 0s 17ms/step - loss: 9.6507 - mse: 121.5464\n",
            "Epoch 391/500\n",
            "1/1 [==============================] - 0s 66ms/step - loss: 15.1299 - mse: 310.4928\n",
            "Epoch 392/500\n",
            "1/1 [==============================] - 0s 29ms/step - loss: 11.7457 - mse: 199.8060\n",
            "Epoch 393/500\n",
            "1/1 [==============================] - 0s 6ms/step - loss: 19.1423 - mse: 502.9796\n",
            "Epoch 394/500\n",
            "1/1 [==============================] - 0s 10ms/step - loss: 6.6177 - mse: 43.9901\n",
            "Epoch 395/500\n",
            "1/1 [==============================] - 0s 17ms/step - loss: 17.5535 - mse: 421.8804\n",
            "Epoch 396/500\n",
            "1/1 [==============================] - 0s 22ms/step - loss: 8.6480 - mse: 89.0477\n",
            "Epoch 397/500\n",
            "1/1 [==============================] - 0s 21ms/step - loss: 15.8955 - mse: 343.8150\n",
            "Epoch 398/500\n",
            "1/1 [==============================] - 0s 16ms/step - loss: 10.4589 - mse: 152.8400\n",
            "Epoch 399/500\n",
            "1/1 [==============================] - 0s 26ms/step - loss: 16.5072 - mse: 371.7407\n",
            "Epoch 400/500\n",
            "1/1 [==============================] - 0s 35ms/step - loss: 9.5979 - mse: 121.1248\n",
            "Epoch 401/500\n",
            "1/1 [==============================] - 0s 9ms/step - loss: 15.0987 - mse: 309.3849\n",
            "Epoch 402/500\n",
            "1/1 [==============================] - 0s 26ms/step - loss: 11.7430 - mse: 200.3840\n",
            "Epoch 403/500\n",
            "1/1 [==============================] - 0s 11ms/step - loss: 19.1130 - mse: 501.6177\n",
            "Epoch 404/500\n",
            "1/1 [==============================] - 0s 10ms/step - loss: 6.5876 - mse: 43.6785\n",
            "Epoch 405/500\n",
            "1/1 [==============================] - 0s 6ms/step - loss: 17.5103 - mse: 419.9099\n",
            "Epoch 406/500\n",
            "1/1 [==============================] - 0s 22ms/step - loss: 8.6345 - mse: 89.7295\n",
            "Epoch 407/500\n",
            "1/1 [==============================] - 0s 12ms/step - loss: 15.8336 - mse: 341.3169\n",
            "Epoch 408/500\n",
            "1/1 [==============================] - 0s 6ms/step - loss: 10.4956 - mse: 154.9810\n",
            "Epoch 409/500\n",
            "1/1 [==============================] - 0s 7ms/step - loss: 18.2167 - mse: 455.0538\n",
            "Epoch 410/500\n",
            "1/1 [==============================] - 0s 24ms/step - loss: 7.6986 - mse: 65.1498\n",
            "Epoch 411/500\n",
            "1/1 [==============================] - 0s 22ms/step - loss: 16.5621 - mse: 374.6602\n",
            "Epoch 412/500\n",
            "1/1 [==============================] - 0s 24ms/step - loss: 9.4363 - mse: 117.0321\n",
            "Epoch 413/500\n",
            "1/1 [==============================] - 0s 22ms/step - loss: 15.1418 - mse: 311.4562\n",
            "Epoch 414/500\n",
            "1/1 [==============================] - 0s 19ms/step - loss: 11.6038 - mse: 195.9015\n",
            "Epoch 415/500\n",
            "1/1 [==============================] - 0s 9ms/step - loss: 19.1460 - mse: 503.6376\n",
            "Epoch 416/500\n",
            "1/1 [==============================] - 0s 23ms/step - loss: 6.4646 - mse: 42.0365\n",
            "Epoch 417/500\n",
            "1/1 [==============================] - 0s 20ms/step - loss: 17.5312 - mse: 421.0944\n",
            "Epoch 418/500\n",
            "1/1 [==============================] - 0s 14ms/step - loss: 8.5256 - mse: 87.7843\n",
            "Epoch 419/500\n",
            "1/1 [==============================] - 0s 24ms/step - loss: 15.8352 - mse: 341.7079\n",
            "Epoch 420/500\n",
            "1/1 [==============================] - 0s 51ms/step - loss: 10.4203 - mse: 153.3563\n",
            "Epoch 421/500\n",
            "1/1 [==============================] - 0s 16ms/step - loss: 18.2129 - mse: 455.0748\n",
            "Epoch 422/500\n",
            "1/1 [==============================] - 0s 22ms/step - loss: 7.6226 - mse: 64.1935\n",
            "Epoch 423/500\n",
            "1/1 [==============================] - 0s 12ms/step - loss: 16.5382 - mse: 373.9170\n",
            "Epoch 424/500\n",
            "1/1 [==============================] - 0s 20ms/step - loss: 9.3785 - mse: 116.7492\n",
            "Epoch 425/500\n",
            "1/1 [==============================] - 0s 19ms/step - loss: 15.1014 - mse: 310.0223\n",
            "Epoch 426/500\n",
            "1/1 [==============================] - 0s 15ms/step - loss: 11.6081 - mse: 196.9023\n",
            "Epoch 427/500\n",
            "1/1 [==============================] - 0s 13ms/step - loss: 19.1083 - mse: 501.8924\n",
            "Epoch 428/500\n",
            "1/1 [==============================] - 0s 14ms/step - loss: 6.4334 - mse: 41.7602\n",
            "Epoch 429/500\n",
            "1/1 [==============================] - 0s 14ms/step - loss: 17.4764 - mse: 418.6084\n",
            "Epoch 430/500\n",
            "1/1 [==============================] - 0s 17ms/step - loss: 8.5148 - mse: 88.7943\n",
            "Epoch 431/500\n",
            "1/1 [==============================] - 0s 12ms/step - loss: 15.7577 - mse: 338.5912\n",
            "Epoch 432/500\n",
            "1/1 [==============================] - 0s 21ms/step - loss: 10.4709 - mse: 156.2189\n",
            "Epoch 433/500\n",
            "1/1 [==============================] - 0s 55ms/step - loss: 18.1370 - mse: 451.4464\n",
            "Epoch 434/500\n",
            "1/1 [==============================] - 0s 29ms/step - loss: 7.6396 - mse: 65.4562\n",
            "Epoch 435/500\n",
            "1/1 [==============================] - 0s 48ms/step - loss: 16.4387 - mse: 369.6662\n",
            "Epoch 436/500\n",
            "1/1 [==============================] - 0s 29ms/step - loss: 9.4188 - mse: 120.0944\n",
            "Epoch 437/500\n",
            "1/1 [==============================] - 0s 24ms/step - loss: 14.9816 - mse: 305.2582\n",
            "Epoch 438/500\n",
            "1/1 [==============================] - 0s 31ms/step - loss: 11.7648 - mse: 203.1570\n",
            "Epoch 439/500\n",
            "1/1 [==============================] - 0s 31ms/step - loss: 20.3144 - mse: 568.9403\n",
            "Epoch 440/500\n",
            "1/1 [==============================] - 0s 20ms/step - loss: 4.8081 - mse: 26.6808\n",
            "Epoch 441/500\n",
            "1/1 [==============================] - 0s 14ms/step - loss: 18.7475 - mse: 483.0804\n",
            "Epoch 442/500\n",
            "1/1 [==============================] - 0s 21ms/step - loss: 6.8028 - mse: 48.2486\n",
            "Epoch 443/500\n",
            "1/1 [==============================] - 0s 27ms/step - loss: 17.0758 - mse: 399.5670\n",
            "Epoch 444/500\n",
            "1/1 [==============================] - 0s 17ms/step - loss: 8.9342 - mse: 103.9836\n",
            "Epoch 445/500\n",
            "1/1 [==============================] - 0s 22ms/step - loss: 15.3172 - mse: 319.7097\n",
            "Epoch 446/500\n",
            "1/1 [==============================] - 0s 24ms/step - loss: 11.1322 - mse: 180.5032\n",
            "Epoch 447/500\n",
            "1/1 [==============================] - 0s 30ms/step - loss: 19.2857 - mse: 511.9055\n",
            "Epoch 448/500\n",
            "1/1 [==============================] - 0s 21ms/step - loss: 6.0731 - mse: 36.9667\n",
            "Epoch 449/500\n",
            "1/1 [==============================] - 0s 23ms/step - loss: 17.6424 - mse: 427.0508\n",
            "Epoch 450/500\n",
            "1/1 [==============================] - 0s 19ms/step - loss: 8.1666 - mse: 80.7034\n",
            "Epoch 451/500\n",
            "1/1 [==============================] - 0s 27ms/step - loss: 15.8978 - mse: 345.4206\n",
            "Epoch 452/500\n",
            "1/1 [==============================] - 0s 17ms/step - loss: 10.1298 - mse: 145.9628\n",
            "Epoch 453/500\n",
            "1/1 [==============================] - 0s 16ms/step - loss: 18.2562 - mse: 457.8991\n",
            "Epoch 454/500\n",
            "1/1 [==============================] - 0s 25ms/step - loss: 7.3536 - mse: 60.1755\n",
            "Epoch 455/500\n",
            "1/1 [==============================] - 0s 15ms/step - loss: 16.5376 - mse: 374.6020\n",
            "Epoch 456/500\n",
            "1/1 [==============================] - 0s 9ms/step - loss: 9.5870 - mse: 128.0617\n",
            "Epoch 457/500\n",
            "1/1 [==============================] - 0s 13ms/step - loss: 16.7801 - mse: 385.8514\n",
            "Epoch 458/500\n",
            "1/1 [==============================] - 0s 13ms/step - loss: 9.2266 - mse: 116.0581\n",
            "Epoch 459/500\n",
            "1/1 [==============================] - 0s 8ms/step - loss: 17.0157 - mse: 396.9522\n",
            "Epoch 460/500\n",
            "1/1 [==============================] - 0s 14ms/step - loss: 8.9025 - mse: 105.0994\n",
            "Epoch 461/500\n",
            "1/1 [==============================] - 0s 14ms/step - loss: 15.2285 - mse: 316.3119\n",
            "Epoch 462/500\n",
            "1/1 [==============================] - 0s 19ms/step - loss: 11.2048 - mse: 183.9498\n",
            "Epoch 463/500\n",
            "1/1 [==============================] - 0s 25ms/step - loss: 20.5070 - mse: 580.7250\n",
            "Epoch 464/500\n",
            "1/1 [==============================] - 0s 8ms/step - loss: 4.4055 - mse: 24.3944\n",
            "Epoch 465/500\n",
            "1/1 [==============================] - 0s 10ms/step - loss: 18.9268 - mse: 493.0972\n",
            "Epoch 466/500\n",
            "1/1 [==============================] - 0s 27ms/step - loss: 6.4147 - mse: 42.3364\n",
            "Epoch 467/500\n",
            "1/1 [==============================] - 0s 20ms/step - loss: 17.2393 - mse: 407.7515\n",
            "Epoch 468/500\n",
            "1/1 [==============================] - 0s 18ms/step - loss: 8.5634 - mse: 94.8408\n",
            "Epoch 469/500\n",
            "1/1 [==============================] - 0s 26ms/step - loss: 15.4484 - mse: 326.0436\n",
            "Epoch 470/500\n",
            "1/1 [==============================] - 0s 13ms/step - loss: 10.7832 - mse: 169.5077\n",
            "Epoch 471/500\n",
            "1/1 [==============================] - 0s 12ms/step - loss: 19.3904 - mse: 518.2109\n",
            "Epoch 472/500\n",
            "1/1 [==============================] - 0s 8ms/step - loss: 5.7836 - mse: 33.4684\n",
            "Epoch 473/500\n",
            "1/1 [==============================] - 0s 10ms/step - loss: 17.7260 - mse: 431.6226\n",
            "Epoch 474/500\n",
            "1/1 [==============================] - 0s 18ms/step - loss: 7.9008 - mse: 75.6433\n",
            "Epoch 475/500\n",
            "1/1 [==============================] - 0s 12ms/step - loss: 15.9489 - mse: 348.3116\n",
            "Epoch 476/500\n",
            "1/1 [==============================] - 0s 7ms/step - loss: 10.4311 - mse: 157.6539\n",
            "Epoch 477/500\n",
            "1/1 [==============================] - 0s 8ms/step - loss: 19.5473 - mse: 526.9614\n",
            "Epoch 478/500\n",
            "1/1 [==============================] - 0s 8ms/step - loss: 5.5426 - mse: 30.7535\n",
            "Epoch 479/500\n",
            "1/1 [==============================] - 0s 7ms/step - loss: 17.8877 - mse: 439.7943\n",
            "Epoch 480/500\n",
            "1/1 [==============================] - 0s 9ms/step - loss: 7.6533 - mse: 69.5170\n",
            "Epoch 481/500\n",
            "1/1 [==============================] - 0s 7ms/step - loss: 16.1151 - mse: 355.7785\n",
            "Epoch 482/500\n",
            "1/1 [==============================] - 0s 8ms/step - loss: 10.1234 - mse: 147.7244\n",
            "Epoch 483/500\n",
            "1/1 [==============================] - 0s 13ms/step - loss: 19.6837 - mse: 534.6571\n",
            "Epoch 484/500\n",
            "1/1 [==============================] - 0s 16ms/step - loss: 5.3297 - mse: 28.6136\n",
            "Epoch 485/500\n",
            "1/1 [==============================] - 0s 16ms/step - loss: 18.0269 - mse: 446.9145\n",
            "Epoch 486/500\n",
            "1/1 [==============================] - 0s 27ms/step - loss: 7.4362 - mse: 64.4824\n",
            "Epoch 487/500\n",
            "1/1 [==============================] - 0s 30ms/step - loss: 16.2568 - mse: 362.2290\n",
            "Epoch 488/500\n",
            "1/1 [==============================] - 0s 10ms/step - loss: 9.8585 - mse: 139.5034\n",
            "Epoch 489/500\n",
            "1/1 [==============================] - 0s 56ms/step - loss: 19.7993 - mse: 541.2629\n",
            "Epoch 490/500\n",
            "1/1 [==============================] - 0s 29ms/step - loss: 5.1443 - mse: 26.9298\n",
            "Epoch 491/500\n",
            "1/1 [==============================] - 0s 17ms/step - loss: 18.1436 - mse: 452.9663\n",
            "Epoch 492/500\n",
            "1/1 [==============================] - 0s 25ms/step - loss: 7.2483 - mse: 60.3873\n",
            "Epoch 493/500\n",
            "1/1 [==============================] - 0s 23ms/step - loss: 16.3744 - mse: 367.6561\n",
            "Epoch 494/500\n",
            "1/1 [==============================] - 0s 12ms/step - loss: 9.6400 - mse: 132.7999\n",
            "Epoch 495/500\n",
            "1/1 [==============================] - 0s 13ms/step - loss: 18.3780 - mse: 465.0687\n",
            "Epoch 496/500\n",
            "1/1 [==============================] - 0s 12ms/step - loss: 6.9228 - mse: 53.3099\n",
            "Epoch 497/500\n",
            "1/1 [==============================] - 0s 14ms/step - loss: 16.6197 - mse: 378.9947\n",
            "Epoch 498/500\n",
            "1/1 [==============================] - 0s 17ms/step - loss: 9.2363 - mse: 120.1298\n",
            "Epoch 499/500\n",
            "1/1 [==============================] - 0s 10ms/step - loss: 18.5967 - mse: 476.5305\n",
            "Epoch 500/500\n",
            "1/1 [==============================] - 0s 50ms/step - loss: 6.6176 - mse: 47.2978\n"
          ]
        },
        {
          "output_type": "execute_result",
          "data": {
            "text/plain": [
              "<keras.callbacks.History at 0x7f12f9e58dd0>"
            ]
          },
          "metadata": {},
          "execution_count": 47
        }
      ]
    },
    {
      "cell_type": "code",
      "source": [
        "y_predict_3=model_3.predict(X_test)\n",
        "y_predict_3"
      ],
      "metadata": {
        "id": "v9BH2MLgVYi1",
        "outputId": "7acb0262-057b-4f86-9194-dfac3a384bb4",
        "colab": {
          "base_uri": "https://localhost:8080/"
        }
      },
      "execution_count": 48,
      "outputs": [
        {
          "output_type": "execute_result",
          "data": {
            "text/plain": [
              "array([[32.24567 ],\n",
              "       [35.070984],\n",
              "       [37.896294],\n",
              "       [40.721603],\n",
              "       [43.546917],\n",
              "       [46.372223],\n",
              "       [49.197536],\n",
              "       [52.022846],\n",
              "       [54.848164],\n",
              "       [57.673473]], dtype=float32)"
            ]
          },
          "metadata": {},
          "execution_count": 48
        }
      ]
    },
    {
      "cell_type": "code",
      "source": [
        "plot_prediction_graph(X_train,X_test,y_train,y_test,y_predict_3)"
      ],
      "metadata": {
        "id": "h51toYHWWm41",
        "outputId": "71e42e0e-2608-48af-fa84-94fb16c1e97e",
        "colab": {
          "base_uri": "https://localhost:8080/",
          "height": 265
        }
      },
      "execution_count": 49,
      "outputs": [
        {
          "output_type": "display_data",
          "data": {
            "image/png": "[encoded data removed]",
            "text/plain": [
              "<Figure size 432x288 with 1 Axes>"
            ]
          },
          "metadata": {
            "needs_background": "light"
          }
        }
      ]
    },
    {
      "cell_type": "code",
      "source": [
        "mse_3=evaluation(y_test,y_predict_3,\"mse\")"
      ],
      "metadata": {
        "id": "89aDTuWsW67t"
      },
      "execution_count": 50,
      "outputs": []
    },
    {
      "cell_type": "code",
      "source": [
        "mae_3=evaluation(y_test,y_predict_2,\"mae\")"
      ],
      "metadata": {
        "id": "4C8tn7C8Xabu"
      },
      "execution_count": 51,
      "outputs": []
    },
    {
      "cell_type": "markdown",
      "source": [
        "**Tracking tensorflow experiment**\n"
      ],
      "metadata": {
        "id": "223Ro5zEZwpm"
      }
    },
    {
      "cell_type": "code",
      "source": [
        "import pandas as pd"
      ],
      "metadata": {
        "id": "RXX26nGaaicE"
      },
      "execution_count": 52,
      "outputs": []
    },
    {
      "cell_type": "code",
      "source": [
        "model_result=[[\"model_1\",mae_1,mse_1],\n",
        "              [\"model_2\",mae_2,mse_2],\n",
        "              [\"model_3\",mae_3,mse_3]]"
      ],
      "metadata": {
        "id": "-971__ybaldj"
      },
      "execution_count": 53,
      "outputs": []
    },
    {
      "cell_type": "code",
      "source": [
        "all_results=pd.DataFrame(model_result,columns=(\"Model_Name\",\"Absolute_Error\",\"Square_Error\"))"
      ],
      "metadata": {
        "id": "0I8tLM9QbrsQ"
      },
      "execution_count": 54,
      "outputs": []
    },
    {
      "cell_type": "code",
      "source": [
        "all_results"
      ],
      "metadata": {
        "id": "C-EUqRmZdED7",
        "outputId": "e4ca6bea-3ccd-4be7-b237-abd9224ffe8f",
        "colab": {
          "base_uri": "https://localhost:8080/",
          "height": 143
        }
      },
      "execution_count": 55,
      "outputs": [
        {
          "output_type": "execute_result",
          "data": {
            "text/html": [
              "\n",
              "  <div id=\"df-bb5c481c-31e5-432a-bfcd-07c49019274f\">\n",
              "    <div class=\"colab-df-container\">\n",
              "      <div>\n",
              "<style scoped>\n",
              "    .dataframe tbody tr th:only-of-type {\n",
              "        vertical-align: middle;\n",
              "    }\n",
              "\n",
              "    .dataframe tbody tr th {\n",
              "        vertical-align: top;\n",
              "    }\n",
              "\n",
              "    .dataframe thead th {\n",
              "        text-align: right;\n",
              "    }\n",
              "</style>\n",
              "<table border=\"1\" class=\"dataframe\">\n",
              "  <thead>\n",
              "    <tr style=\"text-align: right;\">\n",
              "      <th></th>\n",
              "      <th>Model_Name</th>\n",
              "      <th>Absolute_Error</th>\n",
              "      <th>Square_Error</th>\n",
              "    </tr>\n",
              "  </thead>\n",
              "  <tbody>\n",
              "    <tr>\n",
              "      <th>0</th>\n",
              "      <td>model_1</td>\n",
              "      <td>24.109980</td>\n",
              "      <td>589.813354</td>\n",
              "    </tr>\n",
              "    <tr>\n",
              "      <th>1</th>\n",
              "      <td>model_2</td>\n",
              "      <td>35.948433</td>\n",
              "      <td>1322.388916</td>\n",
              "    </tr>\n",
              "    <tr>\n",
              "      <th>2</th>\n",
              "      <td>model_3</td>\n",
              "      <td>35.948433</td>\n",
              "      <td>1448.300293</td>\n",
              "    </tr>\n",
              "  </tbody>\n",
              "</table>\n",
              "</div>\n",
              "      <button class=\"colab-df-convert\" onclick=\"convertToInteractive('df-bb5c481c-31e5-432a-bfcd-07c49019274f')\"\n",
              "              title=\"Convert this dataframe to an interactive table.\"\n",
              "              style=\"display:none;\">\n",
              "        \n",
              "  <svg xmlns=\"http://www.w3.org/2000/svg\" height=\"24px\"viewBox=\"0 0 24 24\"\n",
              "       width=\"24px\">\n",
              "    <path d=\"M0 0h24v24H0V0z\" fill=\"none\"/>\n",
              "    <path d=\"M18.56 5.44l.94 2.06.94-2.06 2.06-.94-2.06-.94-.94-2.06-.94 2.06-2.06.94zm-11 1L8.5 8.5l.94-2.06 2.06-.94-2.06-.94L8.5 2.5l-.94 2.06-2.06.94zm10 10l.94 2.06.94-2.06 2.06-.94-2.06-.94-.94-2.06-.94 2.06-2.06.94z\"/><path d=\"M17.41 7.96l-1.37-1.37c-.4-.4-.92-.59-1.43-.59-.52 0-1.04.2-1.43.59L10.3 9.45l-7.72 7.72c-.78.78-.78 2.05 0 2.83L4 21.41c.39.39.9.59 1.41.59.51 0 1.02-.2 1.41-.59l7.78-7.78 2.81-2.81c.8-.78.8-2.07 0-2.86zM5.41 20L4 18.59l7.72-7.72 1.47 1.35L5.41 20z\"/>\n",
              "  </svg>\n",
              "      </button>\n",
              "      \n",
              "  <style>\n",
              "    .colab-df-container {\n",
              "      display:flex;\n",
              "      flex-wrap:wrap;\n",
              "      gap: 12px;\n",
              "    }\n",
              "\n",
              "    .colab-df-convert {\n",
              "      background-color: #E8F0FE;\n",
              "      border: none;\n",
              "      border-radius: 50%;\n",
              "      cursor: pointer;\n",
              "      display: none;\n",
              "      fill: #1967D2;\n",
              "      height: 32px;\n",
              "      padding: 0 0 0 0;\n",
              "      width: 32px;\n",
              "    }\n",
              "\n",
              "    .colab-df-convert:hover {\n",
              "      background-color: #E2EBFA;\n",
              "      box-shadow: 0px 1px 2px rgba(60, 64, 67, 0.3), 0px 1px 3px 1px rgba(60, 64, 67, 0.15);\n",
              "      fill: #174EA6;\n",
              "    }\n",
              "\n",
              "    [theme=dark] .colab-df-convert {\n",
              "      background-color: #3B4455;\n",
              "      fill: #D2E3FC;\n",
              "    }\n",
              "\n",
              "    [theme=dark] .colab-df-convert:hover {\n",
              "      background-color: #434B5C;\n",
              "      box-shadow: 0px 1px 3px 1px rgba(0, 0, 0, 0.15);\n",
              "      filter: drop-shadow(0px 1px 2px rgba(0, 0, 0, 0.3));\n",
              "      fill: #FFFFFF;\n",
              "    }\n",
              "  </style>\n",
              "\n",
              "      <script>\n",
              "        const buttonEl =\n",
              "          document.querySelector('#df-bb5c481c-31e5-432a-bfcd-07c49019274f button.colab-df-convert');\n",
              "        buttonEl.style.display =\n",
              "          google.colab.kernel.accessAllowed ? 'block' : 'none';\n",
              "\n",
              "        async function convertToInteractive(key) {\n",
              "          const element = document.querySelector('#df-bb5c481c-31e5-432a-bfcd-07c49019274f');\n",
              "          const dataTable =\n",
              "            await google.colab.kernel.invokeFunction('convertToInteractive',\n",
              "                                                     [key], {});\n",
              "          if (!dataTable) return;\n",
              "\n",
              "          const docLinkHtml = 'Like what you see? Visit the ' +\n",
              "            '<a target=\"_blank\" href=https://colab.research.google.com/notebooks/data_table.ipynb>data table notebook</a>'\n",
              "            + ' to learn more about interactive tables.';\n",
              "          element.innerHTML = '';\n",
              "          dataTable['output_type'] = 'display_data';\n",
              "          await google.colab.output.renderOutput(dataTable, element);\n",
              "          const docLink = document.createElement('div');\n",
              "          docLink.innerHTML = docLinkHtml;\n",
              "          element.appendChild(docLink);\n",
              "        }\n",
              "      </script>\n",
              "    </div>\n",
              "  </div>\n",
              "  "
            ],
            "text/plain": [
              "  Model_Name  Absolute_Error  Square_Error\n",
              "0    model_1       24.109980    589.813354\n",
              "1    model_2       35.948433   1322.388916\n",
              "2    model_3       35.948433   1448.300293"
            ]
          },
          "metadata": {},
          "execution_count": 55
        }
      ]
    },
    {
      "cell_type": "code",
      "source": [
        "model_1.save(\"best_model_SavedModel_format\")"
      ],
      "metadata": {
        "id": "nU296-zKdGcy",
        "outputId": "88517f88-9f1f-4c32-aff0-e3340fd0a239",
        "colab": {
          "base_uri": "https://localhost:8080/"
        }
      },
      "execution_count": 56,
      "outputs": [
        {
          "output_type": "stream",
          "name": "stdout",
          "text": [
            "INFO:tensorflow:Assets written to: best_model_SavedModel_format/assets\n"
          ]
        }
      ]
    },
    {
      "cell_type": "code",
      "source": [
        "model_1.save(\"hdf5format.h5\")"
      ],
      "metadata": {
        "id": "w7v3ZjKgrTNW"
      },
      "execution_count": 57,
      "outputs": []
    },
    {
      "cell_type": "markdown",
      "source": [
        "**Load the model**\n",
        "\n",
        "```\n",
        "\n",
        "```\n",
        "\n"
      ],
      "metadata": {
        "id": "sgR6sSrQsN-I"
      }
    },
    {
      "cell_type": "code",
      "source": [
        "load_savedFormat_model=tf.keras.models.load_model(\"best_model_SavedModel_format\")"
      ],
      "metadata": {
        "id": "sXDvpNuDrzb0"
      },
      "execution_count": 58,
      "outputs": []
    },
    {
      "cell_type": "code",
      "source": [
        "load_savedFormat_model.summary()"
      ],
      "metadata": {
        "id": "1Dy0nj6ktFnb",
        "outputId": "0d5eabea-e9a0-47c7-f9fc-9ff376554534",
        "colab": {
          "base_uri": "https://localhost:8080/"
        }
      },
      "execution_count": 59,
      "outputs": [
        {
          "output_type": "stream",
          "name": "stdout",
          "text": [
            "Model: \"sequential_1\"\n",
            "_________________________________________________________________\n",
            " Layer (type)                Output Shape              Param #   \n",
            "=================================================================\n",
            " dense_1 (Dense)             (None, 1)                 2         \n",
            "                                                                 \n",
            "=================================================================\n",
            "Total params: 2\n",
            "Trainable params: 2\n",
            "Non-trainable params: 0\n",
            "_________________________________________________________________\n"
          ]
        }
      ]
    },
    {
      "cell_type": "code",
      "source": [
        "model_1.predict(X_test)\n",
        "load_savedFormat_model.predict(X_test)\n",
        "load_savedFormat_model.predict(X_test)==model_1.predict(X_test)\n"
      ],
      "metadata": {
        "id": "Zsk-IpQetK2x",
        "outputId": "7ae6dbb9-29ac-45df-ade7-04901ea41837",
        "colab": {
          "base_uri": "https://localhost:8080/"
        }
      },
      "execution_count": 60,
      "outputs": [
        {
          "output_type": "stream",
          "name": "stdout",
          "text": [
            "WARNING:tensorflow:5 out of the last 6 calls to <function Model.make_predict_function.<locals>.predict_function at 0x7f12714d28c0> triggered tf.function retracing. Tracing is expensive and the excessive number of tracings could be due to (1) creating @tf.function repeatedly in a loop, (2) passing tensors with different shapes, (3) passing Python objects instead of tensors. For (1), please define your @tf.function outside of the loop. For (2), @tf.function has experimental_relax_shapes=True option that relaxes argument shapes that can avoid unnecessary retracing. For (3), please refer to https://www.tensorflow.org/guide/function#controlling_retracing and https://www.tensorflow.org/api_docs/python/tf/function for  more details.\n"
          ]
        },
        {
          "output_type": "execute_result",
          "data": {
            "text/plain": [
              "array([[ True],\n",
              "       [ True],\n",
              "       [ True],\n",
              "       [ True],\n",
              "       [ True],\n",
              "       [ True],\n",
              "       [ True],\n",
              "       [ True],\n",
              "       [ True],\n",
              "       [ True]])"
            ]
          },
          "metadata": {},
          "execution_count": 60
        }
      ]
    },
    {
      "cell_type": "markdown",
      "source": [
        "**Download the model of any fike from Google Colab**\n"
      ],
      "metadata": {
        "id": "nl52yHDstz0S"
      }
    },
    {
      "cell_type": "code",
      "source": [
        "from google.colab import files"
      ],
      "metadata": {
        "id": "iWA-8fIPtnM6"
      },
      "execution_count": 61,
      "outputs": []
    },
    {
      "cell_type": "code",
      "source": [
        "files.download(\"hdf5format.h5\")"
      ],
      "metadata": {
        "id": "HOe0YwrNvDOt",
        "outputId": "d8c08a9c-ef19-404b-c725-326e1e92b177",
        "colab": {
          "base_uri": "https://localhost:8080/",
          "height": 17
        }
      },
      "execution_count": 62,
      "outputs": [
        {
          "output_type": "display_data",
          "data": {
            "application/javascript": [
              "\n",
              "    async function download(id, filename, size) {\n",
              "      if (!google.colab.kernel.accessAllowed) {\n",
              "        return;\n",
              "      }\n",
              "      const div = document.createElement('div');\n",
              "      const label = document.createElement('label');\n",
              "      label.textContent = `Downloading \"${filename}\": `;\n",
              "      div.appendChild(label);\n",
              "      const progress = document.createElement('progress');\n",
              "      progress.max = size;\n",
              "      div.appendChild(progress);\n",
              "      document.body.appendChild(div);\n",
              "\n",
              "      const buffers = [];\n",
              "      let downloaded = 0;\n",
              "\n",
              "      const channel = await google.colab.kernel.comms.open(id);\n",
              "      // Send a message to notify the kernel that we're ready.\n",
              "      channel.send({})\n",
              "\n",
              "      for await (const message of channel.messages) {\n",
              "        // Send a message to notify the kernel that we're ready.\n",
              "        channel.send({})\n",
              "        if (message.buffers) {\n",
              "          for (const buffer of message.buffers) {\n",
              "            buffers.push(buffer);\n",
              "            downloaded += buffer.byteLength;\n",
              "            progress.value = downloaded;\n",
              "          }\n",
              "        }\n",
              "      }\n",
              "      const blob = new Blob(buffers, {type: 'application/binary'});\n",
              "      const a = document.createElement('a');\n",
              "      a.href = window.URL.createObjectURL(blob);\n",
              "      a.download = filename;\n",
              "      div.appendChild(a);\n",
              "      a.click();\n",
              "      div.remove();\n",
              "    }\n",
              "  "
            ],
            "text/plain": [
              "<IPython.core.display.Javascript object>"
            ]
          },
          "metadata": {}
        },
        {
          "output_type": "display_data",
          "data": {
            "application/javascript": [
              "download(\"download_56095933-dcb4-470b-a66c-0899aa7a229b\", \"hdf5format.h5\", 15064)"
            ],
            "text/plain": [
              "<IPython.core.display.Javascript object>"
            ]
          },
          "metadata": {}
        }
      ]
    },
    {
      "cell_type": "code",
      "source": [
        ""
      ],
      "metadata": {
        "id": "6fjEb4EuvKoU"
      },
      "execution_count": null,
      "outputs": []
    }
  ]
}